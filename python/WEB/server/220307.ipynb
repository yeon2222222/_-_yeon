{
 "cells": [
  {
   "cell_type": "code",
   "execution_count": 6,
   "metadata": {},
   "outputs": [],
   "source": [
    "class Class_1():\n",
    "    def func_1(self):\n",
    "        print(\"Hello World\")"
   ]
  },
  {
   "cell_type": "code",
   "execution_count": 9,
   "metadata": {},
   "outputs": [
    {
     "name": "stdout",
     "output_type": "stream",
     "text": [
      "Hello World\n"
     ]
    }
   ],
   "source": [
    "a=Class_1()\n",
    "a.func_1 ()#판다스 넘파이 맷플러디 같은 라이브러리에서 별칭. 함수 적어서 사용한 것과 같음"
   ]
  },
  {
   "cell_type": "code",
   "execution_count": 15,
   "metadata": {},
   "outputs": [
    {
     "name": "stdout",
     "output_type": "stream",
     "text": [
      "Hello World\n"
     ]
    }
   ],
   "source": [
    "class Class_2():\n",
    "    def func_2(self):#매개변수값을 지정해줘야함 self가 없을 경우 오류뜸\n",
    "        print(\"Hello World\")\n",
    "\n",
    "b=Class_2()\n",
    "b.func_2()"
   ]
  },
  {
   "cell_type": "code",
   "execution_count": 17,
   "metadata": {},
   "outputs": [],
   "source": [
    "# 클래스 생성\n",
    "class Class_3():\n",
    "    def __init__(self, input_a, input_b):#클래스 생성시,바로 실행 됨 ->생성자 선언\n",
    "        self.a = input_a # 매개변수지정 #self변수에 입력받은 값을 넣어줌\n",
    "        self.b = input_b\n",
    "\n",
    "c = Class_3(\"test\",\"test2\") #괄호안에 인자값을 안넣어주면 오류 뜸 \n"
   ]
  },
  {
   "cell_type": "code",
   "execution_count": 20,
   "metadata": {},
   "outputs": [
    {
     "data": {
      "text/plain": [
       "'test'"
      ]
     },
     "execution_count": 20,
     "metadata": {},
     "output_type": "execute_result"
    }
   ],
   "source": [
    "c.a\n"
   ]
  },
  {
   "cell_type": "code",
   "execution_count": 21,
   "metadata": {},
   "outputs": [
    {
     "data": {
      "text/plain": [
       "'test2'"
      ]
     },
     "execution_count": 21,
     "metadata": {},
     "output_type": "execute_result"
    }
   ],
   "source": [
    "c.b"
   ]
  },
  {
   "cell_type": "code",
   "execution_count": 22,
   "metadata": {},
   "outputs": [],
   "source": [
    "d = Class_3(\"test3\",\"test4\")"
   ]
  },
  {
   "cell_type": "code",
   "execution_count": 23,
   "metadata": {},
   "outputs": [
    {
     "data": {
      "text/plain": [
       "'test3'"
      ]
     },
     "execution_count": 23,
     "metadata": {},
     "output_type": "execute_result"
    }
   ],
   "source": [
    "d.a"
   ]
  },
  {
   "cell_type": "code",
   "execution_count": 24,
   "metadata": {},
   "outputs": [
    {
     "data": {
      "text/plain": [
       "'test4'"
      ]
     },
     "execution_count": 24,
     "metadata": {},
     "output_type": "execute_result"
    }
   ],
   "source": [
    "d.b"
   ]
  },
  {
   "cell_type": "code",
   "execution_count": 25,
   "metadata": {},
   "outputs": [
    {
     "data": {
      "text/plain": [
       "'test'"
      ]
     },
     "execution_count": 25,
     "metadata": {},
     "output_type": "execute_result"
    }
   ],
   "source": [
    "c.a"
   ]
  },
  {
   "cell_type": "code",
   "execution_count": 26,
   "metadata": {},
   "outputs": [
    {
     "data": {
      "text/plain": [
       "1884813744624"
      ]
     },
     "execution_count": 26,
     "metadata": {},
     "output_type": "execute_result"
    }
   ],
   "source": [
    "#메모리에 어디 저장되어있는지 주소 출력가능\n",
    "id(c.a)"
   ]
  },
  {
   "cell_type": "code",
   "execution_count": 27,
   "metadata": {},
   "outputs": [
    {
     "data": {
      "text/plain": [
       "1884873489264"
      ]
     },
     "execution_count": 27,
     "metadata": {},
     "output_type": "execute_result"
    }
   ],
   "source": [
    "id(c.b)"
   ]
  },
  {
   "cell_type": "code",
   "execution_count": 28,
   "metadata": {},
   "outputs": [
    {
     "data": {
      "text/plain": [
       "1884874038064"
      ]
     },
     "execution_count": 28,
     "metadata": {},
     "output_type": "execute_result"
    }
   ],
   "source": [
    "id(d.a)#변수들이 다른곳에 잇음"
   ]
  },
  {
   "cell_type": "code",
   "execution_count": 29,
   "metadata": {},
   "outputs": [],
   "source": [
    "class Class_4():# class괄호안에는 상속할때만 다른 클래스명을 집어넣을떄만 사용\n",
    "\n",
    "    name = \"test\"#self 안 붙이는 이유: 어떤 클래스를 가져올지 저장하는 기능 ->모든 클래스에 저장되어있는 name변수는 다 똑같은 값을 불러옴 \n",
    "    def __init__(self, input_c):  # class _4 공간에 name 함수는 지정되어있음 \n",
    "        self.c = input_c\n",
    "\n",
    "\n",
    "a = Class_4(\"123\")\n",
    "b = Class_4(\"456\")\n",
    "c = Class_4(\"789\")\n",
    "\n"
   ]
  },
  {
   "cell_type": "code",
   "execution_count": 30,
   "metadata": {},
   "outputs": [
    {
     "name": "stdout",
     "output_type": "stream",
     "text": [
      "test test test\n",
      "123 456 789\n"
     ]
    }
   ],
   "source": [
    "print(a.name,b.name,c.name)# 같은값\n",
    "print(a.c,b.c,c.c)"
   ]
  },
  {
   "cell_type": "code",
   "execution_count": 55,
   "metadata": {},
   "outputs": [
    {
     "name": "stdout",
     "output_type": "stream",
     "text": [
      "['01064960789', '01031269994'] ['01064960789', '01031269994']\n"
     ]
    }
   ],
   "source": [
    "class Class_5():\n",
    "    _list = []\n",
    "    \n",
    "    def __init__(self, input_name):\n",
    "        self.name = input_name\n",
    "\n",
    "    def add_list(self, input_phone):\n",
    "        self.input_phone = input_phone\n",
    "        self._list.append(input_phone)\n",
    "\n",
    "d = Class_5(\"test\")\n",
    "e = Class_5(\"test2\")\n",
    "d.add_list(\"01064960789\")\n",
    "e.add_list(\"01031269994\")\n",
    "print(d._list, e._list)"
   ]
  },
  {
   "cell_type": "code",
   "execution_count": 3,
   "metadata": {},
   "outputs": [
    {
     "name": "stdout",
     "output_type": "stream",
     "text": [
      "['01064960789'] ['01031269994']\n"
     ]
    }
   ],
   "source": [
    "class Class_5():\n",
    "    def __init__(self,input_name):#공간안에 변수 선언하려면 클래스 생성시 init안에 생성\n",
    "        self.name=input_name\n",
    "        self._list = [] #독립적인 변수\n",
    "\n",
    "    def add_list(self, input_phone):\n",
    "        #self.input_phone = input_phone\n",
    "        self._list.append(input_phone)\n",
    "\n",
    "d = Class_5(\"test\") # d라는 변수는 class5생성하겠따. test란이름의 class->빈리스트 생성\n",
    "e = Class_5(\"test2\")\n",
    "d.add_list(\"01064960789\") #_list에다가 지금받은 값을 append해주겟다\n",
    "e.add_list(\"01031269994\")\n",
    "print(d._list, e._list)\n",
    "    "
   ]
  },
  {
   "cell_type": "code",
   "execution_count": 4,
   "metadata": {},
   "outputs": [
    {
     "name": "stdout",
     "output_type": "stream",
     "text": [
      "['01064960789', '34234324'] ['01031269994', '93829348']\n"
     ]
    }
   ],
   "source": [
    "d.add_list(\"34234324\")\n",
    "e.add_list(\"93829348\")\n",
    "print(d._list, e._list)"
   ]
  },
  {
   "cell_type": "code",
   "execution_count": 5,
   "metadata": {},
   "outputs": [
    {
     "name": "stdout",
     "output_type": "stream",
     "text": [
      "test test2\n"
     ]
    }
   ],
   "source": [
    "print(d.name,e.name)"
   ]
  },
  {
   "cell_type": "code",
   "execution_count": null,
   "metadata": {},
   "outputs": [],
   "source": [
    "#클래스 -> 기능을 추상화했다. 함수와 변수를 믹스 시켜놓았다. 직접만들어쓰지 않기 때문에 어렵게 느껴짐\n",
    "# 외부의 여러 라이브러리도 클래스로 짜여져있다. 그래서 사용법만 알면 됨\n",
    "#사용할 때, 왜 이렇게 구동되는지 알고 있으면 복잡하고 응용할때 훨씬 더 빠르게 습득 가능! ! \n",
    "#클래스를 사용하는 이유 : 변수와 함수 동시,안의 데이터값 따로 출력 가능 , 반복되는 작업을 여러번할때 작업할 수 있는 양이 늘어감"
   ]
  },
  {
   "cell_type": "code",
   "execution_count": 70,
   "metadata": {},
   "outputs": [
    {
     "name": "stdout",
     "output_type": "stream",
     "text": [
      "3\n",
      "7\n"
     ]
    }
   ],
   "source": [
    "#함수처리시 코드 global \n",
    "sum = 0 \n",
    "\n",
    "def add(x):\n",
    "    global sum  #x에다 값을 집어넣으면 sum에다가 더해줌\n",
    "    sum+= x\n",
    "    return sum\n",
    "\n",
    "print(add(3))\n",
    "print(add(4)) #계속해서 합산해줌"
   ]
  },
  {
   "cell_type": "code",
   "execution_count": 72,
   "metadata": {},
   "outputs": [
    {
     "name": "stdout",
     "output_type": "stream",
     "text": [
      "3\n",
      "3\n",
      "13\n",
      "4\n"
     ]
    }
   ],
   "source": [
    "sum_1=0\n",
    "sum_2=0\n",
    "\n",
    "def add_1(x):\n",
    "    global sum_1\n",
    "    sum_1 +=x\n",
    "    return sum_1\n",
    "\n",
    "def add_2(x):\n",
    "    global sum_2\n",
    "    sum_2+=x\n",
    "    return sum_2\n",
    "\n",
    "\n",
    "print(add_1(3))\n",
    "print(add_2(3))\n",
    "print(add_1(10))\n",
    "print(add_2(1))"
   ]
  },
  {
   "cell_type": "code",
   "execution_count": 87,
   "metadata": {},
   "outputs": [
    {
     "name": "stdout",
     "output_type": "stream",
     "text": [
      "4\n",
      "7\n",
      "11\n",
      "8\n"
     ]
    }
   ],
   "source": [
    "#클래스로 처리시\n",
    "class Class_6():\n",
    "    def __init__(self):#self 매개변수 입력값이 필요없음  \n",
    "        self._sum =0 # self를 통해 클레스마다 sum값을 지정할 것이기 때문   \n",
    "    def add(self,input_x): #매개변수 필요 ->더할 숫자 받아와야함\n",
    "        self._sum += input_x\n",
    "        return self._sum #행동이나 연산을 통해 출력할 값\n",
    "  \n",
    "a = Class_6()\n",
    "b = Class_6()\n",
    "\n",
    "print(a.add(4))\n",
    "print(b.add(7))\n",
    "print(a.add(7))\n",
    "print(b.add(1))"
   ]
  },
  {
   "cell_type": "code",
   "execution_count": 95,
   "metadata": {},
   "outputs": [
    {
     "name": "stdout",
     "output_type": "stream",
     "text": [
      "4\n"
     ]
    }
   ],
   "source": [
    "class Class_7():\n",
    "    def __init__(self):#self 매개변수 입력값이 필요없음  \n",
    "        self._sum =0 # self를 통해 클레스마다 sum값을 지정할 것이기 때문   \n",
    "    def add(self,input_x): #매개변수 필요 ->더할 숫자 받아와야함\n",
    "        self._sum += input_x #return 없을시\n",
    "\n",
    "a = Class_7()\n",
    "b = Class_7()\n",
    "\n",
    "a.add(4)\n",
    "print(a._sum)# 리턴이 없어서 변수값 출력\n"
   ]
  },
  {
   "cell_type": "markdown",
   "metadata": {},
   "source": [
    "1. 클래스 생성 -> 초기에 인자값 2개를 입력받아서 변수 2개에 이 값들을 지정\n",
    "2. 첫번째 함수 : 변수 2개의 값을 변경을 하는 함수\n",
    "3. 이 후에 5개의 함수는 변수 2개의 + - * / % 의 함수를 생성\n",
    "4. 6개의 함수를 다 실행해보기!"
   ]
  },
  {
   "cell_type": "code",
   "execution_count": 113,
   "metadata": {},
   "outputs": [
    {
     "name": "stdout",
     "output_type": "stream",
     "text": [
      "5\n",
      "-1\n",
      "2\n",
      "1.0\n",
      "1\n"
     ]
    }
   ],
   "source": [
    "class Class_8():#틀린답\n",
    "    def __init__(self,input_a,input_b):\n",
    "        self.input_a=input_a\n",
    "        self.input_b=input_b\n",
    "    def change(self,input_a,input_b):\n",
    "        self.input_a=input_a\n",
    "        self.input_b=input_b\n",
    "        \n",
    "    def result_1(self,input_a,input_b):\n",
    "        self.\n",
    "        return self._sum\n",
    "    def result_2(self,input_a,input_b):\n",
    "        self._sum=input_a-input_b\n",
    "        return self._sum\n",
    "    def result_3(self,input_a,input_b):\n",
    "        self._sum=input_a*input_b\n",
    "        return self.\n",
    "    def result_4(self,input_a,input_b):\n",
    "        self._sum=input_a/input_b\n",
    "        return self._sum\n",
    "    def result_5(self,input_a,input_b):\n",
    "        self._sum=input_a % input_b \n",
    "        return self.  \n",
    "\n",
    "\n",
    "print(a.result_1(2,3))\n",
    "print(a.result_2(2,3))\n",
    "print(a.result_3(1,2))     \n",
    "print(a.result_4(3,3))\n",
    "print(a.result_5(4,3))\n",
    "-xmffls\n"
   ]
  },
  {
   "cell_type": "markdown",
   "metadata": {},
   "source": [
    "선생님 답\n",
    "class Class_8():\n",
    "    def __init__(self,input_a,input_b): # 매개변수 두개더\n",
    "       #1번 class가 생성이 되고 인자값 2개를 변수 2개에 지정을 해주는 과정 \n",
    "        self.a=input_a #변수는 a,b\n",
    "        self.b=input_b\n",
    "    def change(self,input_a,input_b):# 변경하는 함수 , 값을 두개 받아 올것\n",
    "        self.a=input_a #기존의 init함수안의 매개변수가 아닌 change함수의 새로운 input_a ,input_b으로 서로 다른 값. \n",
    "        self.b=input_b #self는 클래스마다 저장되는 공간이 달라서 a변수를 선언하는데 필요하다. return필요없음\n",
    "\n",
    "    def sum(self) #변수값 필요없다. 이미 init에서 a,b변수에 지정해놨기 때문 그값의 합을 구할땐 따로 지정할 피료없다\n",
    "        self._sum =self.a+self.b \n",
    "        return self._sum 이렇게 쓰거나 \n",
    "        return self.a + self.b 이렇게 씀\n",
    "\n",
    "    def sub(self)\n",
    "        return self.a-self.b\n",
    "   \n",
    "    def mul(self):\n",
    "        return self.input_a*input_b\n",
    "        \n",
    "    def div(self):\n",
    "        return self.a/self.b\n",
    "\n",
    "    def rem(self):\n",
    "        return self.a % self.b  \n",
    "\n",
    "cal=Class_8(1,2)\n",
    "\n",
    "print(cal.sum())\n",
    "print(cal.sub())\n",
    "print(cal.mul())\n",
    "print(cal.div())\n",
    "print(cal.rem())\n",
    "\n"
   ]
  },
  {
   "cell_type": "code",
   "execution_count": 123,
   "metadata": {},
   "outputs": [
    {
     "name": "stdout",
     "output_type": "stream",
     "text": [
      "9\n",
      "5\n",
      "14\n",
      "3.5\n",
      "1\n"
     ]
    }
   ],
   "source": [
    "class Class_8():\n",
    "    def __init__(self,input_a,input_b): # 매개변수 두개더\n",
    "       #1번 class가 생성이 되고 인자값 2개를 변수 2개에 지정을 해주는 과정 \n",
    "        self.a=input_a #변수는 a,b\n",
    "        self.b=input_b\n",
    "    def change(self,input_a,input_b):# 변경하는 함수 , 값을 두개 받아 올것\n",
    "        self.a=input_a #기존의 init함수안의 매개변수가 아닌 change함수의 새로운 input_a ,input_b으로 서로 다른 값. \n",
    "        self.b=input_b #self는 클래스마다 저장되는 공간이 달라서 a변수를 선언하는데 필요하다. return필요없음\n",
    "\n",
    "    def sum(self): #변수값 필요없다. 이미 init에서 a,b변수에 지정해놨기 때문 그값의 합을 구할땐 따로 지정할 피료없다\n",
    "        self._sum =self.a+self.b \n",
    "        return self._sum #이렇게 쓰거나 \n",
    "        #return self.a + self.b 이렇게 씀 self는 어느 공간에서 받아올지 \n",
    "\n",
    "    def sub(self):\n",
    "        return self.a-self.b\n",
    "   \n",
    "    def mul(self):\n",
    "        return self.a*self.b\n",
    "        \n",
    "    def div(self):\n",
    "        if self.b==0:\n",
    "            return 0\n",
    "        else:\n",
    "            return self.a/self.b #0\n",
    "\n",
    "    def rem(self):\n",
    "        if self.b==0:\n",
    "            return 0\n",
    "        else:\n",
    "            return self.a % self.b  \n",
    "\n",
    "cal=Class_8(7,2)\n",
    "\n",
    "print(cal.sum())\n",
    "print(cal.sub())\n",
    "print(cal.mul())\n",
    "print(cal.div())\n",
    "print(cal.rem())\n"
   ]
  },
  {
   "cell_type": "code",
   "execution_count": 124,
   "metadata": {},
   "outputs": [
    {
     "name": "stdout",
     "output_type": "stream",
     "text": [
      "2\n",
      "2\n",
      "0\n",
      "0\n",
      "0\n"
     ]
    }
   ],
   "source": [
    "cal.change(2,0)\n",
    "print(cal.sum())\n",
    "print(cal.sub())\n",
    "print(cal.mul())\n",
    "print(cal.div())\n",
    "print(cal.rem())\n",
    "#나누기나 나머지값에서 0을 나눌때 연산이 안되서 오류가 남 \n",
    "#0이면 0을 리턴해주기로\n",
    "#if self.b==0:\n",
    "#            return 0\n",
    "#        else:\n"
   ]
  },
  {
   "cell_type": "markdown",
   "metadata": {},
   "source": [
    "1. 밑변의 길이와 높이를 인자값으로 넣어주는 클래스를 생성 \n",
    "2. 삼각형일 때 넓이, 사각형일때 넓이 구하는 함수 생성 \n",
    "3. 함수는 init을 제외 단 1개의 함수로 구성이 되는 클래스생성\n",
    "4. init이 아닌 함수의 인자값에서 삼각형의 넓이인지 사각형의 넓이인지 지정을 해줍시다."
   ]
  },
  {
   "cell_type": "code",
   "execution_count": 135,
   "metadata": {},
   "outputs": [
    {
     "name": "stdout",
     "output_type": "stream",
     "text": [
      "5.0\n",
      "지정된 값이 아님\n",
      "10\n"
     ]
    }
   ],
   "source": [
    "class Class_9():\n",
    "    def __init__(self,input_width,input_heigh):#매개변수 2개 \n",
    "        self.width=input_width\n",
    "        self.heigh=input_heigh\n",
    "    def area (self,x):#삼각형인지 사각형인지 인자하나 받아오기\n",
    "        if x==3:#인자값이 무엇일지 함수 코드 짜기\n",
    "            return(self.width*self.heigh)/2\n",
    "        elif x==4:\n",
    "            return self.width*self.heigh\n",
    "        else:\n",
    "            return \"지정된 값이 아님\"\n",
    "    \n",
    "a=Class_9(5,2)#클래스하나 생성하기-> 너비 높이 값 넣어주기\n",
    "print(a.area(3))\n",
    "print(a.area(6))\n",
    "print(a.area(4))\n",
    "        \n",
    "        \n",
    "        \n",
    "    "
   ]
  },
  {
   "cell_type": "code",
   "execution_count": 139,
   "metadata": {},
   "outputs": [
    {
     "name": "stdout",
     "output_type": "stream",
     "text": [
      "[18.84, 28.26]\n"
     ]
    }
   ],
   "source": [
    "#원의 넓이 원의 둘레 \n",
    "class Class_10():#공통적으로 들어가고 변하지 않는 pie값은 전역으로 적어줌\n",
    "    _pie=3.14\n",
    "\n",
    "    def area(self,r):\n",
    "        self.result = []\n",
    "        self.result.append(2*self._pie*r)\n",
    "        self.result.append(self._pie*(r**2))\n",
    "        return self.result\n",
    "\n",
    "x=Class_10()#여기선 init을 안썻고, 만약 init안에 변수가 없으면 인자안넣어줘도댐\n",
    "print(x.area(3))\n"
   ]
  },
  {
   "cell_type": "code",
   "execution_count": 144,
   "metadata": {},
   "outputs": [
    {
     "name": "stdout",
     "output_type": "stream",
     "text": [
      "[15.42, 14.13]\n",
      "[18.84, 28.26]\n",
      "[18.84, 28.26]\n"
     ]
    }
   ],
   "source": [
    "#상속 \n",
    "class Class_11(Class_10):\n",
    "    def __init__(self,input_r):#인자값 필요\n",
    "        self.r=input_r\n",
    "\n",
    "    def half(self):\n",
    "        self.result = []\n",
    "        self.result.append(self._pie*self.r+2*self.r)#class10의 _pie 가져옴\n",
    "        self.result.append(self._pie*(self.r**2)/2)\n",
    "        return self.result\n",
    "#오버라이딩:기능을  수정한다.\n",
    "    def area(self):# r값 init에서 받아온값 self.r 사용\n",
    "        self.result=[]\n",
    "        self.result.append(2*self._pie*self.r)\n",
    "        self.result.append(self._pie*(self.r**2))\n",
    "        return self.result\n",
    "\n",
    "y=Class_11(3)#11은 10을 기능만 쓰는거기 때문에 받기로 한 인자값을 넣어주어야함\n",
    "print(y.half())\n",
    "print(y.area()) #10에서 쓴 area기능을 쓰기 위해서는 r인자값 넣어주기 #11에서 area함수 다시 지정하면 r인자값 안넣어줘도됌\n",
    "# 기능을 변경할수 있따.-> 함수를 변경해준다 기존으ㅣ함수를 변경하고자 하면 같은함수명으로 다시 지정하면 그위에 덮어쓰여짐, 인자값은 안받아옴\n",
    "print(x.area(3))#기존10은 원본그대로 남아있고 11을 쓸때만 변경되서 사용가능\n"
   ]
  },
  {
   "cell_type": "code",
   "execution_count": null,
   "metadata": {},
   "outputs": [],
   "source": []
  }
 ],
 "metadata": {
  "interpreter": {
   "hash": "f34cd9ef3a25a401ef1891262e0b6ad7ff3305bbc44f242c8aa5d1053ab3e25e"
  },
  "kernelspec": {
   "display_name": "Python 3.10.2 64-bit (windows store)",
   "language": "python",
   "name": "python3"
  },
  "language_info": {
   "codemirror_mode": {
    "name": "ipython",
    "version": 3
   },
   "file_extension": ".py",
   "mimetype": "text/x-python",
   "name": "python",
   "nbconvert_exporter": "python",
   "pygments_lexer": "ipython3",
   "version": "3.10.2"
  },
  "orig_nbformat": 4
 },
 "nbformat": 4,
 "nbformat_minor": 2
}
