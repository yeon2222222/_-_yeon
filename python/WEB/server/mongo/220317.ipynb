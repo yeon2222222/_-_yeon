{
 "cells": [
  {
   "cell_type": "code",
   "execution_count": 1,
   "metadata": {},
   "outputs": [],
   "source": [
    "from pymongo import MongoClient"
   ]
  },
  {
   "cell_type": "code",
   "execution_count": 2,
   "metadata": {},
   "outputs": [],
   "source": [
    "client=MongoClient(\n",
    "    host='localhost',\n",
    "    port=27017\n",
    ")"
   ]
  },
  {
   "cell_type": "code",
   "execution_count": 3,
   "metadata": {},
   "outputs": [
    {
     "data": {
      "text/plain": [
       "['admin', 'config', 'local', 'test', 'ubion']"
      ]
     },
     "execution_count": 3,
     "metadata": {},
     "output_type": "execute_result"
    }
   ],
   "source": [
    "client.list_database_names()"
   ]
  },
  {
   "cell_type": "code",
   "execution_count": 4,
   "metadata": {},
   "outputs": [
    {
     "data": {
      "text/plain": [
       "<pymongo.cursor.Cursor at 0x25488c00ac0>"
      ]
     },
     "execution_count": 4,
     "metadata": {},
     "output_type": "execute_result"
    }
   ],
   "source": [
    "db=client[\"ubion\"]\n",
    "db.test.find()\n"
   ]
  },
  {
   "cell_type": "code",
   "execution_count": 5,
   "metadata": {},
   "outputs": [
    {
     "data": {
      "text/plain": [
       "[{'_id': ObjectId('62329d84f5399e23a103ba9b'), '1': '1', '2': '2', '3': '3'},\n",
       " {'_id': ObjectId('62329da6f5399e23a103ba9c'), '1': '1', '2': '2', '3': '3'},\n",
       " {'_id': ObjectId('62329daaf5399e23a103ba9d'), '1': '2'},\n",
       " {'_id': ObjectId('62329daaf5399e23a103ba9e'), '3': '4'},\n",
       " {'_id': ObjectId('6232b7daf5399e23a103bab0'), '1': '1', '2': '2', '3': '3'},\n",
       " {'_id': ObjectId('6232b7dcf5399e23a103bab1'), '1': '2'},\n",
       " {'_id': ObjectId('6232b7dcf5399e23a103bab2'), '3': '4'}]"
      ]
     },
     "execution_count": 5,
     "metadata": {},
     "output_type": "execute_result"
    }
   ],
   "source": [
    "list(db[\"test\"].find())"
   ]
  },
  {
   "cell_type": "code",
   "execution_count": 6,
   "metadata": {},
   "outputs": [
    {
     "data": {
      "text/plain": [
       "<pymongo.results.InsertOneResult at 0x25487643980>"
      ]
     },
     "execution_count": 6,
     "metadata": {},
     "output_type": "execute_result"
    }
   ],
   "source": [
    "data={\n",
    "    \"1\":\"1\",\n",
    "    \"2\":\"2\",\n",
    "    \"3\":\"3\"\n",
    "    \n",
    "}\n",
    "db.test.insert_one(data)"
   ]
  },
  {
   "cell_type": "code",
   "execution_count": 7,
   "metadata": {},
   "outputs": [
    {
     "data": {
      "text/plain": [
       "<pymongo.results.InsertManyResult at 0x25486a06c00>"
      ]
     },
     "execution_count": 7,
     "metadata": {},
     "output_type": "execute_result"
    }
   ],
   "source": [
    "###data변수만들어서 insert_many를 사용해볼것\n",
    "data=[{\n",
    "    \"1\":\"2\"},\n",
    "    {\"3\":\"4\"}\n",
    "]\n",
    "db.test.insert_many(data)"
   ]
  },
  {
   "cell_type": "code",
   "execution_count": 8,
   "metadata": {},
   "outputs": [
    {
     "data": {
      "text/plain": [
       "[{'_id': ObjectId('62329d84f5399e23a103ba9b'), '1': '1', '2': '2', '3': '3'},\n",
       " {'_id': ObjectId('62329da6f5399e23a103ba9c'), '1': '1', '2': '2', '3': '3'},\n",
       " {'_id': ObjectId('62329daaf5399e23a103ba9d'), '1': '2'},\n",
       " {'_id': ObjectId('62329daaf5399e23a103ba9e'), '3': '4'},\n",
       " {'_id': ObjectId('6232b7daf5399e23a103bab0'), '1': '1', '2': '2', '3': '3'},\n",
       " {'_id': ObjectId('6232b7dcf5399e23a103bab1'), '1': '2'},\n",
       " {'_id': ObjectId('6232b7dcf5399e23a103bab2'), '3': '4'},\n",
       " {'_id': ObjectId('6232c3aa6314327120821247'), '1': '1', '2': '2', '3': '3'},\n",
       " {'_id': ObjectId('6232c3aa6314327120821248'), '1': '2'},\n",
       " {'_id': ObjectId('6232c3aa6314327120821249'), '3': '4'}]"
      ]
     },
     "execution_count": 8,
     "metadata": {},
     "output_type": "execute_result"
    }
   ],
   "source": [
    "list(db[\"test\"].find())"
   ]
  },
  {
   "cell_type": "code",
   "execution_count": null,
   "metadata": {},
   "outputs": [],
   "source": []
  },
  {
   "cell_type": "code",
   "execution_count": 58,
   "metadata": {},
   "outputs": [],
   "source": [
    "import mod_sql"
   ]
  },
  {
   "cell_type": "code",
   "execution_count": 64,
   "metadata": {},
   "outputs": [
    {
     "ename": "OperationalError",
     "evalue": "(2003, \"Can't connect to MySQL server on 'darkpreist.iptime.org' (timed out)\")",
     "output_type": "error",
     "traceback": [
      "\u001b[1;31m---------------------------------------------------------------------------\u001b[0m",
      "\u001b[1;31mTimeoutError\u001b[0m                              Traceback (most recent call last)",
      "File \u001b[1;32m~\\AppData\\Local\\Programs\\Python\\Python310\\lib\\site-packages\\pymysql\\connections.py:613\u001b[0m, in \u001b[0;36mConnection.connect\u001b[1;34m(self, sock)\u001b[0m\n\u001b[0;32m    <a href='file:///c%3A/Users/heeyeon/AppData/Local/Programs/Python/Python310/lib/site-packages/pymysql/connections.py?line=611'>612</a>\u001b[0m \u001b[39mtry\u001b[39;00m:\n\u001b[1;32m--> <a href='file:///c%3A/Users/heeyeon/AppData/Local/Programs/Python/Python310/lib/site-packages/pymysql/connections.py?line=612'>613</a>\u001b[0m     sock \u001b[39m=\u001b[39m socket\u001b[39m.\u001b[39mcreate_connection(\n\u001b[0;32m    <a href='file:///c%3A/Users/heeyeon/AppData/Local/Programs/Python/Python310/lib/site-packages/pymysql/connections.py?line=613'>614</a>\u001b[0m         (\u001b[39mself\u001b[39m\u001b[39m.\u001b[39mhost, \u001b[39mself\u001b[39m\u001b[39m.\u001b[39mport), \u001b[39mself\u001b[39m\u001b[39m.\u001b[39mconnect_timeout, \u001b[39m*\u001b[39m\u001b[39m*\u001b[39mkwargs\n\u001b[0;32m    <a href='file:///c%3A/Users/heeyeon/AppData/Local/Programs/Python/Python310/lib/site-packages/pymysql/connections.py?line=614'>615</a>\u001b[0m     )\n\u001b[0;32m    <a href='file:///c%3A/Users/heeyeon/AppData/Local/Programs/Python/Python310/lib/site-packages/pymysql/connections.py?line=615'>616</a>\u001b[0m     \u001b[39mbreak\u001b[39;00m\n",
      "File \u001b[1;32m~\\AppData\\Local\\Programs\\Python\\Python310\\lib\\socket.py:845\u001b[0m, in \u001b[0;36mcreate_connection\u001b[1;34m(address, timeout, source_address)\u001b[0m\n\u001b[0;32m    <a href='file:///c%3A/Users/heeyeon/AppData/Local/Programs/Python/Python310/lib/socket.py?line=843'>844</a>\u001b[0m \u001b[39mtry\u001b[39;00m:\n\u001b[1;32m--> <a href='file:///c%3A/Users/heeyeon/AppData/Local/Programs/Python/Python310/lib/socket.py?line=844'>845</a>\u001b[0m     \u001b[39mraise\u001b[39;00m err\n\u001b[0;32m    <a href='file:///c%3A/Users/heeyeon/AppData/Local/Programs/Python/Python310/lib/socket.py?line=845'>846</a>\u001b[0m \u001b[39mfinally\u001b[39;00m:\n\u001b[0;32m    <a href='file:///c%3A/Users/heeyeon/AppData/Local/Programs/Python/Python310/lib/socket.py?line=846'>847</a>\u001b[0m     \u001b[39m# Break explicitly a reference cycle\u001b[39;00m\n",
      "File \u001b[1;32m~\\AppData\\Local\\Programs\\Python\\Python310\\lib\\socket.py:833\u001b[0m, in \u001b[0;36mcreate_connection\u001b[1;34m(address, timeout, source_address)\u001b[0m\n\u001b[0;32m    <a href='file:///c%3A/Users/heeyeon/AppData/Local/Programs/Python/Python310/lib/socket.py?line=831'>832</a>\u001b[0m     sock\u001b[39m.\u001b[39mbind(source_address)\n\u001b[1;32m--> <a href='file:///c%3A/Users/heeyeon/AppData/Local/Programs/Python/Python310/lib/socket.py?line=832'>833</a>\u001b[0m sock\u001b[39m.\u001b[39;49mconnect(sa)\n\u001b[0;32m    <a href='file:///c%3A/Users/heeyeon/AppData/Local/Programs/Python/Python310/lib/socket.py?line=833'>834</a>\u001b[0m \u001b[39m# Break explicitly a reference cycle\u001b[39;00m\n",
      "\u001b[1;31mTimeoutError\u001b[0m: timed out",
      "\nDuring handling of the above exception, another exception occurred:\n",
      "\u001b[1;31mOperationalError\u001b[0m                          Traceback (most recent call last)",
      "\u001b[1;32mc:\\Users\\heeyeon\\Desktop\\2022\\빅데이터 분석\\WEB\\server\\mongo\\220317.ipynb Cell 11'\u001b[0m in \u001b[0;36m<module>\u001b[1;34m\u001b[0m\n\u001b[1;32m----> <a href='vscode-notebook-cell:/c%3A/Users/heeyeon/Desktop/2022/%EB%B9%85%EB%8D%B0%EC%9D%B4%ED%84%B0%20%EB%B6%84%EC%84%9D/WEB/server/mongo/220317.ipynb#ch0000009?line=0'>1</a>\u001b[0m _db\u001b[39m=\u001b[39mmod_sql\u001b[39m.\u001b[39;49mDatabase()\n",
      "File \u001b[1;32mc:\\Users\\heeyeon\\Desktop\\2022\\빅데이터 분석\\WEB\\server\\mongo\\mod_sql.py:16\u001b[0m, in \u001b[0;36mDatabase.__init__\u001b[1;34m(self)\u001b[0m\n\u001b[0;32m     <a href='file:///c%3A/Users/heeyeon/Desktop/2022/%EB%B9%85%EB%8D%B0%EC%9D%B4%ED%84%B0%20%EB%B6%84%EC%84%9D/WEB/server/mongo/mod_sql.py?line=14'>15</a>\u001b[0m \u001b[39mdef\u001b[39;00m \u001b[39m__init__\u001b[39m(\u001b[39mself\u001b[39m):\n\u001b[1;32m---> <a href='file:///c%3A/Users/heeyeon/Desktop/2022/%EB%B9%85%EB%8D%B0%EC%9D%B4%ED%84%B0%20%EB%B6%84%EC%84%9D/WEB/server/mongo/mod_sql.py?line=15'>16</a>\u001b[0m     \u001b[39mself\u001b[39m\u001b[39m.\u001b[39m_db\u001b[39m=\u001b[39mpymysql\u001b[39m.\u001b[39;49mconnect(host\u001b[39m=\u001b[39;49m\u001b[39m'\u001b[39;49m\u001b[39mdarkpreist.iptime.org\u001b[39;49m\u001b[39m'\u001b[39;49m,\n\u001b[0;32m     <a href='file:///c%3A/Users/heeyeon/Desktop/2022/%EB%B9%85%EB%8D%B0%EC%9D%B4%ED%84%B0%20%EB%B6%84%EC%84%9D/WEB/server/mongo/mod_sql.py?line=16'>17</a>\u001b[0m                             user\u001b[39m=\u001b[39;49m\u001b[39m\"\u001b[39;49m\u001b[39mubion\u001b[39;49m\u001b[39m\"\u001b[39;49m,\n\u001b[0;32m     <a href='file:///c%3A/Users/heeyeon/Desktop/2022/%EB%B9%85%EB%8D%B0%EC%9D%B4%ED%84%B0%20%EB%B6%84%EC%84%9D/WEB/server/mongo/mod_sql.py?line=17'>18</a>\u001b[0m                             password\u001b[39m=\u001b[39;49m\u001b[39m\"\u001b[39;49m\u001b[39m1234\u001b[39;49m\u001b[39m\"\u001b[39;49m,\n\u001b[0;32m     <a href='file:///c%3A/Users/heeyeon/Desktop/2022/%EB%B9%85%EB%8D%B0%EC%9D%B4%ED%84%B0%20%EB%B6%84%EC%84%9D/WEB/server/mongo/mod_sql.py?line=18'>19</a>\u001b[0m                             db \u001b[39m=\u001b[39;49m\u001b[39m\"\u001b[39;49m\u001b[39mubion\u001b[39;49m\u001b[39m\"\u001b[39;49m,\n\u001b[0;32m     <a href='file:///c%3A/Users/heeyeon/Desktop/2022/%EB%B9%85%EB%8D%B0%EC%9D%B4%ED%84%B0%20%EB%B6%84%EC%84%9D/WEB/server/mongo/mod_sql.py?line=19'>20</a>\u001b[0m                             port\u001b[39m=\u001b[39;49m\u001b[39m3306\u001b[39;49m)\n\u001b[0;32m     <a href='file:///c%3A/Users/heeyeon/Desktop/2022/%EB%B9%85%EB%8D%B0%EC%9D%B4%ED%84%B0%20%EB%B6%84%EC%84%9D/WEB/server/mongo/mod_sql.py?line=20'>21</a>\u001b[0m     \u001b[39mself\u001b[39m\u001b[39m.\u001b[39mcursor \u001b[39m=\u001b[39m \u001b[39mself\u001b[39m\u001b[39m.\u001b[39m_db\u001b[39m.\u001b[39mcursor(pymysql\u001b[39m.\u001b[39mcursors\u001b[39m.\u001b[39mDictCursor)\n",
      "File \u001b[1;32m~\\AppData\\Local\\Programs\\Python\\Python310\\lib\\site-packages\\pymysql\\connections.py:353\u001b[0m, in \u001b[0;36mConnection.__init__\u001b[1;34m(self, user, password, host, database, unix_socket, port, charset, sql_mode, read_default_file, conv, use_unicode, client_flag, cursorclass, init_command, connect_timeout, read_default_group, autocommit, local_infile, max_allowed_packet, defer_connect, auth_plugin_map, read_timeout, write_timeout, bind_address, binary_prefix, program_name, server_public_key, ssl, ssl_ca, ssl_cert, ssl_disabled, ssl_key, ssl_verify_cert, ssl_verify_identity, compress, named_pipe, passwd, db)\u001b[0m\n\u001b[0;32m    <a href='file:///c%3A/Users/heeyeon/AppData/Local/Programs/Python/Python310/lib/site-packages/pymysql/connections.py?line=350'>351</a>\u001b[0m     \u001b[39mself\u001b[39m\u001b[39m.\u001b[39m_sock \u001b[39m=\u001b[39m \u001b[39mNone\u001b[39;00m\n\u001b[0;32m    <a href='file:///c%3A/Users/heeyeon/AppData/Local/Programs/Python/Python310/lib/site-packages/pymysql/connections.py?line=351'>352</a>\u001b[0m \u001b[39melse\u001b[39;00m:\n\u001b[1;32m--> <a href='file:///c%3A/Users/heeyeon/AppData/Local/Programs/Python/Python310/lib/site-packages/pymysql/connections.py?line=352'>353</a>\u001b[0m     \u001b[39mself\u001b[39;49m\u001b[39m.\u001b[39;49mconnect()\n",
      "File \u001b[1;32m~\\AppData\\Local\\Programs\\Python\\Python310\\lib\\site-packages\\pymysql\\connections.py:664\u001b[0m, in \u001b[0;36mConnection.connect\u001b[1;34m(self, sock)\u001b[0m\n\u001b[0;32m    <a href='file:///c%3A/Users/heeyeon/AppData/Local/Programs/Python/Python310/lib/site-packages/pymysql/connections.py?line=661'>662</a>\u001b[0m     \u001b[39mif\u001b[39;00m DEBUG:\n\u001b[0;32m    <a href='file:///c%3A/Users/heeyeon/AppData/Local/Programs/Python/Python310/lib/site-packages/pymysql/connections.py?line=662'>663</a>\u001b[0m         \u001b[39mprint\u001b[39m(exc\u001b[39m.\u001b[39mtraceback)\n\u001b[1;32m--> <a href='file:///c%3A/Users/heeyeon/AppData/Local/Programs/Python/Python310/lib/site-packages/pymysql/connections.py?line=663'>664</a>\u001b[0m     \u001b[39mraise\u001b[39;00m exc\n\u001b[0;32m    <a href='file:///c%3A/Users/heeyeon/AppData/Local/Programs/Python/Python310/lib/site-packages/pymysql/connections.py?line=665'>666</a>\u001b[0m \u001b[39m# If e is neither DatabaseError or IOError, It's a bug.\u001b[39;00m\n\u001b[0;32m    <a href='file:///c%3A/Users/heeyeon/AppData/Local/Programs/Python/Python310/lib/site-packages/pymysql/connections.py?line=666'>667</a>\u001b[0m \u001b[39m# But raising AssertionError hides original error.\u001b[39;00m\n\u001b[0;32m    <a href='file:///c%3A/Users/heeyeon/AppData/Local/Programs/Python/Python310/lib/site-packages/pymysql/connections.py?line=667'>668</a>\u001b[0m \u001b[39m# So just reraise it.\u001b[39;00m\n\u001b[0;32m    <a href='file:///c%3A/Users/heeyeon/AppData/Local/Programs/Python/Python310/lib/site-packages/pymysql/connections.py?line=668'>669</a>\u001b[0m \u001b[39mraise\u001b[39;00m\n",
      "\u001b[1;31mOperationalError\u001b[0m: (2003, \"Can't connect to MySQL server on 'darkpreist.iptime.org' (timed out)\")"
     ]
    }
   ],
   "source": [
    "_db=mod_sql.Database()\n"
   ]
  },
  {
   "cell_type": "code",
   "execution_count": 62,
   "metadata": {},
   "outputs": [
    {
     "ename": "InterfaceError",
     "evalue": "(0, '')",
     "output_type": "error",
     "traceback": [
      "\u001b[1;31m---------------------------------------------------------------------------\u001b[0m",
      "\u001b[1;31mInterfaceError\u001b[0m                            Traceback (most recent call last)",
      "\u001b[1;32mc:\\Users\\heeyeon\\Desktop\\2022\\빅데이터 분석\\WEB\\server\\mongo\\220317.ipynb Cell 12'\u001b[0m in \u001b[0;36m<module>\u001b[1;34m\u001b[0m\n\u001b[0;32m      <a href='vscode-notebook-cell:/c%3A/Users/heeyeon/Desktop/2022/%EB%B9%85%EB%8D%B0%EC%9D%B4%ED%84%B0%20%EB%B6%84%EC%84%9D/WEB/server/mongo/220317.ipynb#ch0000010?line=0'>1</a>\u001b[0m sql\u001b[39m=\u001b[39m\u001b[39m\"\"\"\u001b[39m\n\u001b[0;32m      <a href='vscode-notebook-cell:/c%3A/Users/heeyeon/Desktop/2022/%EB%B9%85%EB%8D%B0%EC%9D%B4%ED%84%B0%20%EB%B6%84%EC%84%9D/WEB/server/mongo/220317.ipynb#ch0000010?line=1'>2</a>\u001b[0m \u001b[39m        SELECT * FROM emp\u001b[39m\n\u001b[0;32m      <a href='vscode-notebook-cell:/c%3A/Users/heeyeon/Desktop/2022/%EB%B9%85%EB%8D%B0%EC%9D%B4%ED%84%B0%20%EB%B6%84%EC%84%9D/WEB/server/mongo/220317.ipynb#ch0000010?line=2'>3</a>\u001b[0m \u001b[39m        \u001b[39m\u001b[39m\"\"\"\u001b[39m\n\u001b[1;32m----> <a href='vscode-notebook-cell:/c%3A/Users/heeyeon/Desktop/2022/%EB%B9%85%EB%8D%B0%EC%9D%B4%ED%84%B0%20%EB%B6%84%EC%84%9D/WEB/server/mongo/220317.ipynb#ch0000010?line=3'>4</a>\u001b[0m result\u001b[39m=\u001b[39m_db\u001b[39m.\u001b[39;49mexecuteAll(sql)\n\u001b[0;32m      <a href='vscode-notebook-cell:/c%3A/Users/heeyeon/Desktop/2022/%EB%B9%85%EB%8D%B0%EC%9D%B4%ED%84%B0%20%EB%B6%84%EC%84%9D/WEB/server/mongo/220317.ipynb#ch0000010?line=4'>5</a>\u001b[0m pd\u001b[39m.\u001b[39mDataFrame(result)\u001b[39m.\u001b[39mto_csv(\u001b[39m\"\u001b[39m\u001b[39memp.csv\u001b[39m\u001b[39m\"\u001b[39m)\n",
      "File \u001b[1;32mc:\\Users\\heeyeon\\Desktop\\2022\\빅데이터 분석\\WEB\\server\\mongo\\mod_sql.py:27\u001b[0m, in \u001b[0;36mDatabase.executeAll\u001b[1;34m(self, _sql, _values)\u001b[0m\n\u001b[0;32m     <a href='file:///c%3A/Users/heeyeon/Desktop/2022/%EB%B9%85%EB%8D%B0%EC%9D%B4%ED%84%B0%20%EB%B6%84%EC%84%9D/WEB/server/mongo/mod_sql.py?line=25'>26</a>\u001b[0m \u001b[39mdef\u001b[39;00m \u001b[39mexecuteAll\u001b[39m(\u001b[39mself\u001b[39m,_sql,_values\u001b[39m=\u001b[39m{}):\n\u001b[1;32m---> <a href='file:///c%3A/Users/heeyeon/Desktop/2022/%EB%B9%85%EB%8D%B0%EC%9D%B4%ED%84%B0%20%EB%B6%84%EC%84%9D/WEB/server/mongo/mod_sql.py?line=26'>27</a>\u001b[0m     \u001b[39mself\u001b[39;49m\u001b[39m.\u001b[39;49mcursor\u001b[39m.\u001b[39;49mexecute(_sql,_values)\n\u001b[0;32m     <a href='file:///c%3A/Users/heeyeon/Desktop/2022/%EB%B9%85%EB%8D%B0%EC%9D%B4%ED%84%B0%20%EB%B6%84%EC%84%9D/WEB/server/mongo/mod_sql.py?line=27'>28</a>\u001b[0m     \u001b[39mself\u001b[39m\u001b[39m.\u001b[39mresult\u001b[39m=\u001b[39m\u001b[39mself\u001b[39m\u001b[39m.\u001b[39mcursor\u001b[39m.\u001b[39mfetchall()\n\u001b[0;32m     <a href='file:///c%3A/Users/heeyeon/Desktop/2022/%EB%B9%85%EB%8D%B0%EC%9D%B4%ED%84%B0%20%EB%B6%84%EC%84%9D/WEB/server/mongo/mod_sql.py?line=28'>29</a>\u001b[0m     \u001b[39mreturn\u001b[39;00m \u001b[39mself\u001b[39m\u001b[39m.\u001b[39mresult\n",
      "File \u001b[1;32m~\\AppData\\Local\\Programs\\Python\\Python310\\lib\\site-packages\\pymysql\\cursors.py:148\u001b[0m, in \u001b[0;36mCursor.execute\u001b[1;34m(self, query, args)\u001b[0m\n\u001b[0;32m    <a href='file:///c%3A/Users/heeyeon/AppData/Local/Programs/Python/Python310/lib/site-packages/pymysql/cursors.py?line=143'>144</a>\u001b[0m     \u001b[39mpass\u001b[39;00m\n\u001b[0;32m    <a href='file:///c%3A/Users/heeyeon/AppData/Local/Programs/Python/Python310/lib/site-packages/pymysql/cursors.py?line=145'>146</a>\u001b[0m query \u001b[39m=\u001b[39m \u001b[39mself\u001b[39m\u001b[39m.\u001b[39mmogrify(query, args)\n\u001b[1;32m--> <a href='file:///c%3A/Users/heeyeon/AppData/Local/Programs/Python/Python310/lib/site-packages/pymysql/cursors.py?line=147'>148</a>\u001b[0m result \u001b[39m=\u001b[39m \u001b[39mself\u001b[39;49m\u001b[39m.\u001b[39;49m_query(query)\n\u001b[0;32m    <a href='file:///c%3A/Users/heeyeon/AppData/Local/Programs/Python/Python310/lib/site-packages/pymysql/cursors.py?line=148'>149</a>\u001b[0m \u001b[39mself\u001b[39m\u001b[39m.\u001b[39m_executed \u001b[39m=\u001b[39m query\n\u001b[0;32m    <a href='file:///c%3A/Users/heeyeon/AppData/Local/Programs/Python/Python310/lib/site-packages/pymysql/cursors.py?line=149'>150</a>\u001b[0m \u001b[39mreturn\u001b[39;00m result\n",
      "File \u001b[1;32m~\\AppData\\Local\\Programs\\Python\\Python310\\lib\\site-packages\\pymysql\\cursors.py:310\u001b[0m, in \u001b[0;36mCursor._query\u001b[1;34m(self, q)\u001b[0m\n\u001b[0;32m    <a href='file:///c%3A/Users/heeyeon/AppData/Local/Programs/Python/Python310/lib/site-packages/pymysql/cursors.py?line=307'>308</a>\u001b[0m \u001b[39mself\u001b[39m\u001b[39m.\u001b[39m_last_executed \u001b[39m=\u001b[39m q\n\u001b[0;32m    <a href='file:///c%3A/Users/heeyeon/AppData/Local/Programs/Python/Python310/lib/site-packages/pymysql/cursors.py?line=308'>309</a>\u001b[0m \u001b[39mself\u001b[39m\u001b[39m.\u001b[39m_clear_result()\n\u001b[1;32m--> <a href='file:///c%3A/Users/heeyeon/AppData/Local/Programs/Python/Python310/lib/site-packages/pymysql/cursors.py?line=309'>310</a>\u001b[0m conn\u001b[39m.\u001b[39;49mquery(q)\n\u001b[0;32m    <a href='file:///c%3A/Users/heeyeon/AppData/Local/Programs/Python/Python310/lib/site-packages/pymysql/cursors.py?line=310'>311</a>\u001b[0m \u001b[39mself\u001b[39m\u001b[39m.\u001b[39m_do_get_result()\n\u001b[0;32m    <a href='file:///c%3A/Users/heeyeon/AppData/Local/Programs/Python/Python310/lib/site-packages/pymysql/cursors.py?line=311'>312</a>\u001b[0m \u001b[39mreturn\u001b[39;00m \u001b[39mself\u001b[39m\u001b[39m.\u001b[39mrowcount\n",
      "File \u001b[1;32m~\\AppData\\Local\\Programs\\Python\\Python310\\lib\\site-packages\\pymysql\\connections.py:547\u001b[0m, in \u001b[0;36mConnection.query\u001b[1;34m(self, sql, unbuffered)\u001b[0m\n\u001b[0;32m    <a href='file:///c%3A/Users/heeyeon/AppData/Local/Programs/Python/Python310/lib/site-packages/pymysql/connections.py?line=544'>545</a>\u001b[0m \u001b[39mif\u001b[39;00m \u001b[39misinstance\u001b[39m(sql, \u001b[39mstr\u001b[39m):\n\u001b[0;32m    <a href='file:///c%3A/Users/heeyeon/AppData/Local/Programs/Python/Python310/lib/site-packages/pymysql/connections.py?line=545'>546</a>\u001b[0m     sql \u001b[39m=\u001b[39m sql\u001b[39m.\u001b[39mencode(\u001b[39mself\u001b[39m\u001b[39m.\u001b[39mencoding, \u001b[39m\"\u001b[39m\u001b[39msurrogateescape\u001b[39m\u001b[39m\"\u001b[39m)\n\u001b[1;32m--> <a href='file:///c%3A/Users/heeyeon/AppData/Local/Programs/Python/Python310/lib/site-packages/pymysql/connections.py?line=546'>547</a>\u001b[0m \u001b[39mself\u001b[39;49m\u001b[39m.\u001b[39;49m_execute_command(COMMAND\u001b[39m.\u001b[39;49mCOM_QUERY, sql)\n\u001b[0;32m    <a href='file:///c%3A/Users/heeyeon/AppData/Local/Programs/Python/Python310/lib/site-packages/pymysql/connections.py?line=547'>548</a>\u001b[0m \u001b[39mself\u001b[39m\u001b[39m.\u001b[39m_affected_rows \u001b[39m=\u001b[39m \u001b[39mself\u001b[39m\u001b[39m.\u001b[39m_read_query_result(unbuffered\u001b[39m=\u001b[39munbuffered)\n\u001b[0;32m    <a href='file:///c%3A/Users/heeyeon/AppData/Local/Programs/Python/Python310/lib/site-packages/pymysql/connections.py?line=548'>549</a>\u001b[0m \u001b[39mreturn\u001b[39;00m \u001b[39mself\u001b[39m\u001b[39m.\u001b[39m_affected_rows\n",
      "File \u001b[1;32m~\\AppData\\Local\\Programs\\Python\\Python310\\lib\\site-packages\\pymysql\\connections.py:793\u001b[0m, in \u001b[0;36mConnection._execute_command\u001b[1;34m(self, command, sql)\u001b[0m\n\u001b[0;32m    <a href='file:///c%3A/Users/heeyeon/AppData/Local/Programs/Python/Python310/lib/site-packages/pymysql/connections.py?line=787'>788</a>\u001b[0m \u001b[39m\"\"\"\u001b[39;00m\n\u001b[0;32m    <a href='file:///c%3A/Users/heeyeon/AppData/Local/Programs/Python/Python310/lib/site-packages/pymysql/connections.py?line=788'>789</a>\u001b[0m \u001b[39m:raise InterfaceError: If the connection is closed.\u001b[39;00m\n\u001b[0;32m    <a href='file:///c%3A/Users/heeyeon/AppData/Local/Programs/Python/Python310/lib/site-packages/pymysql/connections.py?line=789'>790</a>\u001b[0m \u001b[39m:raise ValueError: If no username was specified.\u001b[39;00m\n\u001b[0;32m    <a href='file:///c%3A/Users/heeyeon/AppData/Local/Programs/Python/Python310/lib/site-packages/pymysql/connections.py?line=790'>791</a>\u001b[0m \u001b[39m\"\"\"\u001b[39;00m\n\u001b[0;32m    <a href='file:///c%3A/Users/heeyeon/AppData/Local/Programs/Python/Python310/lib/site-packages/pymysql/connections.py?line=791'>792</a>\u001b[0m \u001b[39mif\u001b[39;00m \u001b[39mnot\u001b[39;00m \u001b[39mself\u001b[39m\u001b[39m.\u001b[39m_sock:\n\u001b[1;32m--> <a href='file:///c%3A/Users/heeyeon/AppData/Local/Programs/Python/Python310/lib/site-packages/pymysql/connections.py?line=792'>793</a>\u001b[0m     \u001b[39mraise\u001b[39;00m err\u001b[39m.\u001b[39mInterfaceError(\u001b[39m0\u001b[39m, \u001b[39m\"\u001b[39m\u001b[39m\"\u001b[39m)\n\u001b[0;32m    <a href='file:///c%3A/Users/heeyeon/AppData/Local/Programs/Python/Python310/lib/site-packages/pymysql/connections.py?line=794'>795</a>\u001b[0m \u001b[39m# If the last query was unbuffered, make sure it finishes before\u001b[39;00m\n\u001b[0;32m    <a href='file:///c%3A/Users/heeyeon/AppData/Local/Programs/Python/Python310/lib/site-packages/pymysql/connections.py?line=795'>796</a>\u001b[0m \u001b[39m# sending new commands\u001b[39;00m\n\u001b[0;32m    <a href='file:///c%3A/Users/heeyeon/AppData/Local/Programs/Python/Python310/lib/site-packages/pymysql/connections.py?line=796'>797</a>\u001b[0m \u001b[39mif\u001b[39;00m \u001b[39mself\u001b[39m\u001b[39m.\u001b[39m_result \u001b[39mis\u001b[39;00m \u001b[39mnot\u001b[39;00m \u001b[39mNone\u001b[39;00m:\n",
      "\u001b[1;31mInterfaceError\u001b[0m: (0, '')"
     ]
    }
   ],
   "source": [
    "sql=\"\"\"\n",
    "        SELECT * FROM emp\n",
    "        \"\"\"\n",
    "result=_db.executeAll(sql)\n",
    "pd.DataFrame(result).to_csv(\"emp.csv\")\n"
   ]
  },
  {
   "cell_type": "code",
   "execution_count": null,
   "metadata": {},
   "outputs": [],
   "source": [
    "pd.read_csv(\"emp.csv\").to_dict"
   ]
  },
  {
   "cell_type": "code",
   "execution_count": null,
   "metadata": {},
   "outputs": [],
   "source": [
    "db.emp.insert_many(result)"
   ]
  },
  {
   "cell_type": "code",
   "execution_count": null,
   "metadata": {},
   "outputs": [
    {
     "data": {
      "text/plain": [
       "{'_id': ObjectId('6232b74c4a2c0581e52c2b58'),\n",
       " 'EMPNO': '7369',\n",
       " 'ENAME': 'SMITH',\n",
       " 'JOB': 'CLERK',\n",
       " 'MGR': '7902',\n",
       " 'HIREDATE': '1980-12-17',\n",
       " 'SAL': '800.00',\n",
       " 'DEPTNO': '20'}"
      ]
     },
     "execution_count": 38,
     "metadata": {},
     "output_type": "execute_result"
    }
   ],
   "source": [
    "db.emp.find_one()"
   ]
  },
  {
   "cell_type": "code",
   "execution_count": null,
   "metadata": {},
   "outputs": [
    {
     "ename": "TypeError",
     "evalue": "'dict' object is not callable",
     "output_type": "error",
     "traceback": [
      "\u001b[1;31m---------------------------------------------------------------------------\u001b[0m",
      "\u001b[1;31mTypeError\u001b[0m                                 Traceback (most recent call last)",
      "\u001b[1;32mc:\\Users\\heeyeon\\Desktop\\2022\\빅데이터 분석\\WEB\\server\\mongo\\220317.ipynb Cell 14'\u001b[0m in \u001b[0;36m<module>\u001b[1;34m\u001b[0m\n\u001b[1;32m----> <a href='vscode-notebook-cell:/c%3A/Users/heeyeon/Desktop/2022/%EB%B9%85%EB%8D%B0%EC%9D%B4%ED%84%B0%20%EB%B6%84%EC%84%9D/WEB/server/mongo/220317.ipynb#ch0000013?line=0'>1</a>\u001b[0m \u001b[39mlist\u001b[39;49m(db\u001b[39m.\u001b[39;49memp\u001b[39m.\u001b[39;49mfind(\n\u001b[0;32m      <a href='vscode-notebook-cell:/c%3A/Users/heeyeon/Desktop/2022/%EB%B9%85%EB%8D%B0%EC%9D%B4%ED%84%B0%20%EB%B6%84%EC%84%9D/WEB/server/mongo/220317.ipynb#ch0000013?line=1'>2</a>\u001b[0m     {\u001b[39m\"\u001b[39;49m\u001b[39mENAME\u001b[39;49m\u001b[39m\"\u001b[39;49m:\u001b[39m\"\u001b[39;49m\u001b[39mSMITH\u001b[39;49m\u001b[39m\"\u001b[39;49m}\n\u001b[0;32m      <a href='vscode-notebook-cell:/c%3A/Users/heeyeon/Desktop/2022/%EB%B9%85%EB%8D%B0%EC%9D%B4%ED%84%B0%20%EB%B6%84%EC%84%9D/WEB/server/mongo/220317.ipynb#ch0000013?line=2'>3</a>\u001b[0m     \n\u001b[0;32m      <a href='vscode-notebook-cell:/c%3A/Users/heeyeon/Desktop/2022/%EB%B9%85%EB%8D%B0%EC%9D%B4%ED%84%B0%20%EB%B6%84%EC%84%9D/WEB/server/mongo/220317.ipynb#ch0000013?line=3'>4</a>\u001b[0m ))\n",
      "\u001b[1;31mTypeError\u001b[0m: 'dict' object is not callable"
     ]
    }
   ],
   "source": [
    "list(db.emp.find(\n",
    "    {\"ENAME\":\"SMITH\"}\n",
    "    \n",
    "))\n",
    "#SELECT * FROM emp WHERE ENAME=\"SMITH\""
   ]
  },
  {
   "cell_type": "code",
   "execution_count": null,
   "metadata": {},
   "outputs": [],
   "source": [
    "result=db.emp.find()\n",
    "\n",
    "for list in result:\n",
    "    print(list)"
   ]
  },
  {
   "cell_type": "code",
   "execution_count": null,
   "metadata": {},
   "outputs": [
    {
     "name": "stdout",
     "output_type": "stream",
     "text": [
      "{'_id': ObjectId('6232b74c4a2c0581e52c2b58'), 'EMPNO': '7369', 'ENAME': 'SMITH', 'DEPTNO': '20'}\n",
      "{'_id': ObjectId('6232b74c4a2c0581e52c2b59'), 'EMPNO': '7499', 'ENAME': 'ALLEN', 'DEPTNO': '30'}\n",
      "{'_id': ObjectId('6232b74c4a2c0581e52c2b5a'), 'EMPNO': '7521', 'ENAME': 'WARD', 'DEPTNO': '30'}\n",
      "{'_id': ObjectId('6232b74c4a2c0581e52c2b5b'), 'EMPNO': '7566', 'ENAME': 'JONES', 'DEPTNO': '20'}\n",
      "{'_id': ObjectId('6232b74c4a2c0581e52c2b5c'), 'EMPNO': '7654', 'ENAME': 'MARTIN', 'DEPTNO': '30'}\n",
      "{'_id': ObjectId('6232b74c4a2c0581e52c2b5d'), 'EMPNO': '7698', 'ENAME': 'BLAKE', 'DEPTNO': '30'}\n",
      "{'_id': ObjectId('6232b74c4a2c0581e52c2b5e'), 'EMPNO': '7782', 'ENAME': 'CLARK', 'DEPTNO': '10'}\n",
      "{'_id': ObjectId('6232b74c4a2c0581e52c2b5f'), 'EMPNO': '7788', 'ENAME': 'SCOTT', 'DEPTNO': '20'}\n",
      "{'_id': ObjectId('6232b74c4a2c0581e52c2b60'), 'EMPNO': '7839', 'ENAME': 'KING', 'DEPTNO': '10'}\n",
      "{'_id': ObjectId('6232b74c4a2c0581e52c2b61'), 'EMPNO': '7844', 'ENAME': 'TURNER', 'DEPTNO': '30'}\n",
      "{'_id': ObjectId('6232b74c4a2c0581e52c2b62'), 'EMPNO': '7876', 'ENAME': 'ADAMS', 'DEPTNO': '20'}\n",
      "{'_id': ObjectId('6232b74c4a2c0581e52c2b63'), 'EMPNO': '7900', 'ENAME': 'JAMES', 'DEPTNO': '30'}\n",
      "{'_id': ObjectId('6232b74c4a2c0581e52c2b64'), 'EMPNO': '7902', 'ENAME': 'FORD', 'DEPTNO': '20'}\n",
      "{'_id': ObjectId('6232b74c4a2c0581e52c2b65'), 'EMPNO': '7934', 'ENAME': 'MILLER', 'DEPTNO': '10'}\n"
     ]
    }
   ],
   "source": [
    "#컬럼을 사원번호 이름 부서번호만 출력하고 싶으면\n",
    "#emp 콜렉션에서 키 값이 EMPNO,ENAME,DEPTNO 만 출력이 되도록 코드 작성\n",
    "result=db.emp.find({},                     #첫번째 중괄호는 WHERE조건문을 쓸 때 사용하는 공간이라고 생각하면 편함, \n",
    "    {\"EMPNO\":1,                            #두번째 괄호는 COLUMN절 1 =TRUE 즉, key의 값을 사용하는 공간\n",
    "    \"ENAME\":1,\n",
    "    \"DEPTNO\":1}\n",
    "    )\n",
    "for list in result:\n",
    "    print(list)\n",
    "# select EMPNO, ENAME, DEPTNO from emp\n",
    "# find 함수는 적어도  인자값이 두개 필요함 따라서 빈값을 넣어주는 이유는 앞의 값을 넣어줘야 뒤의 값을 넣어줄수 있어서 "
   ]
  },
  {
   "cell_type": "code",
   "execution_count": 14,
   "metadata": {},
   "outputs": [
    {
     "ename": "TypeError",
     "evalue": "'dict' object is not callable",
     "output_type": "error",
     "traceback": [
      "\u001b[1;31m---------------------------------------------------------------------------\u001b[0m",
      "\u001b[1;31mTypeError\u001b[0m                                 Traceback (most recent call last)",
      "\u001b[1;32mc:\\Users\\heeyeon\\Desktop\\2022\\빅데이터 분석\\WEB\\server\\mongo\\220317.ipynb Cell 17'\u001b[0m in \u001b[0;36m<module>\u001b[1;34m\u001b[0m\n\u001b[1;32m----> <a href='vscode-notebook-cell:/c%3A/Users/heeyeon/Desktop/2022/%EB%B9%85%EB%8D%B0%EC%9D%B4%ED%84%B0%20%EB%B6%84%EC%84%9D/WEB/server/mongo/220317.ipynb#ch0000019?line=0'>1</a>\u001b[0m \u001b[39mlist\u001b[39;49m(db\u001b[39m.\u001b[39;49memp\u001b[39m.\u001b[39;49mfind()\u001b[39m.\u001b[39;49msort(\u001b[39m\"\u001b[39;49m\u001b[39mENAME\u001b[39;49m\u001b[39m\"\u001b[39;49m))\n",
      "\u001b[1;31mTypeError\u001b[0m: 'dict' object is not callable"
     ]
    }
   ],
   "source": [
    "list(db.emp.find().sort(\"ENAME\"))"
   ]
  },
  {
   "cell_type": "code",
   "execution_count": null,
   "metadata": {},
   "outputs": [
    {
     "name": "stdout",
     "output_type": "stream",
     "text": [
      "{'_id': ObjectId('6232b74c4a2c0581e52c2b62'), 'EMPNO': '7876', 'ENAME': 'ADAMS', 'JOB': 'CLERK', 'MGR': '7788', 'HIREDATE': '1987-07-13', 'SAL': '1100.00', 'DEPTNO': '20'}\n",
      "{'_id': ObjectId('6232b74c4a2c0581e52c2b59'), 'EMPNO': '7499', 'ENAME': 'ALLEN', 'JOB': 'SALESMAN', 'MGR': '7698', 'HIREDATE': '1981-02-20', 'SAL': '1600.00', 'COMM': '300.00', 'DEPTNO': '30'}\n",
      "{'_id': ObjectId('6232b74c4a2c0581e52c2b5d'), 'EMPNO': '7698', 'ENAME': 'BLAKE', 'JOB': 'MANAGER', 'MGR': '7839', 'HIREDATE': '1981-05-01', 'SAL': '2850.00', 'DEPTNO': '30'}\n",
      "{'_id': ObjectId('6232b74c4a2c0581e52c2b5e'), 'EMPNO': '7782', 'ENAME': 'CLARK', 'JOB': 'MANAGER', 'MGR': '7839', 'HIREDATE': '1981-06-09', 'SAL': '2450.00', 'DEPTNO': '10'}\n",
      "{'_id': ObjectId('6232b74c4a2c0581e52c2b64'), 'EMPNO': '7902', 'ENAME': 'FORD', 'JOB': 'ANALYST', 'MGR': '7566', 'HIREDATE': '1981-12-03', 'SAL': '3000.00', 'DEPTNO': '20'}\n",
      "{'_id': ObjectId('6232b74c4a2c0581e52c2b63'), 'EMPNO': '7900', 'ENAME': 'JAMES', 'JOB': 'CLERK', 'MGR': '7698', 'HIREDATE': '1981-12-03', 'SAL': '950.00', 'DEPTNO': '30'}\n",
      "{'_id': ObjectId('6232b74c4a2c0581e52c2b5b'), 'EMPNO': '7566', 'ENAME': 'JONES', 'JOB': 'MANAGER', 'MGR': '7839', 'HIREDATE': '1981-04-02', 'SAL': '2975.00', 'DEPTNO': '20'}\n",
      "{'_id': ObjectId('6232b74c4a2c0581e52c2b60'), 'EMPNO': '7839', 'ENAME': 'KING', 'JOB': 'PRESIDENT', 'HIREDATE': '1981-11-17', 'SAL': '5000.00', 'DEPTNO': '10'}\n",
      "{'_id': ObjectId('6232b74c4a2c0581e52c2b5c'), 'EMPNO': '7654', 'ENAME': 'MARTIN', 'JOB': 'SALESMAN', 'MGR': '7698', 'HIREDATE': '1981-09-28', 'SAL': '1250.00', 'COMM': '1400.00', 'DEPTNO': '30'}\n",
      "{'_id': ObjectId('6232b74c4a2c0581e52c2b65'), 'EMPNO': '7934', 'ENAME': 'MILLER', 'JOB': 'CLERK', 'MGR': '7782', 'HIREDATE': '1982-01-23', 'SAL': '1300.00', 'DEPTNO': '10'}\n",
      "{'_id': ObjectId('6232b74c4a2c0581e52c2b5f'), 'EMPNO': '7788', 'ENAME': 'SCOTT', 'JOB': 'ANALYST', 'MGR': '7566', 'HIREDATE': '1987-06-28', 'SAL': '3000.00', 'DEPTNO': '20'}\n",
      "{'_id': ObjectId('6232b74c4a2c0581e52c2b58'), 'EMPNO': '7369', 'ENAME': 'SMITH', 'JOB': 'CLERK', 'MGR': '7902', 'HIREDATE': '1980-12-17', 'SAL': '800.00', 'DEPTNO': '20'}\n",
      "{'_id': ObjectId('6232b74c4a2c0581e52c2b61'), 'EMPNO': '7844', 'ENAME': 'TURNER', 'JOB': 'SALESMAN', 'MGR': '7698', 'HIREDATE': '1981-09-08', 'SAL': '1500.00', 'COMM': '0.00', 'DEPTNO': '30'}\n",
      "{'_id': ObjectId('6232b74c4a2c0581e52c2b5a'), 'EMPNO': '7521', 'ENAME': 'WARD', 'JOB': 'SALESMAN', 'MGR': '7698', 'HIREDATE': '1981-02-22', 'SAL': '1250.00', 'COMM': '500.00', 'DEPTNO': '30'}\n"
     ]
    }
   ],
   "source": [
    "result=db.emp.find().sort(\"ENAME\")\n",
    "\n",
    "for list in result:\n",
    "    print(list)\n",
    "#select * from order by ENAME"
   ]
  },
  {
   "cell_type": "code",
   "execution_count": 18,
   "metadata": {},
   "outputs": [
    {
     "name": "stdout",
     "output_type": "stream",
     "text": [
      "{'_id': ObjectId('6232c7014a2c0581e52c2b73'), 'EMPNO': 7566, 'ENAME': 'JONES', 'JOB': 'MANAGER', 'MGR': 7839, 'HIREDATE': '1981-04-02', 'SAL': 2975.0, 'DEPTNO': 20}\n",
      "{'_id': ObjectId('6232c7014a2c0581e52c2b75'), 'EMPNO': 7698, 'ENAME': 'BLAKE', 'JOB': 'MANAGER', 'MGR': 7839, 'HIREDATE': '1981-05-01', 'SAL': 2850.0, 'DEPTNO': 30}\n",
      "{'_id': ObjectId('6232c7014a2c0581e52c2b76'), 'EMPNO': 7782, 'ENAME': 'CLARK', 'JOB': 'MANAGER', 'MGR': 7839, 'HIREDATE': '1981-06-09', 'SAL': 2450.0, 'DEPTNO': 10}\n",
      "{'_id': ObjectId('6232c7014a2c0581e52c2b77'), 'EMPNO': 7788, 'ENAME': 'SCOTT', 'JOB': 'ANALYST', 'MGR': 7566, 'HIREDATE': '1987-06-28', 'SAL': 3000.0, 'DEPTNO': 20}\n",
      "{'_id': ObjectId('6232c7014a2c0581e52c2b78'), 'EMPNO': 7839, 'ENAME': 'KING', 'JOB': 'PRESIDENT', 'HIREDATE': '1981-11-17', 'SAL': 5000.0, 'DEPTNO': 10}\n",
      "{'_id': ObjectId('6232c7014a2c0581e52c2b7c'), 'EMPNO': 7902, 'ENAME': 'FORD', 'JOB': 'ANALYST', 'MGR': 7566, 'HIREDATE': '1981-12-03', 'SAL': 3000.0, 'DEPTNO': 20}\n"
     ]
    }
   ],
   "source": [
    "#급여 >2000 데이터만 출력\n",
    "result=db.emp.find(\n",
    "    {\n",
    "        \"SAL\" : {\n",
    "           \"$gt\":2000                                   #2000보다 큰 이라는 뜻\n",
    "        }\n",
    "    }\n",
    ")\n",
    "\n",
    "for list in result:\n",
    "    print(list)\n",
    "\n",
    "#select * from emp where SAL>2000 "
   ]
  },
  {
   "cell_type": "code",
   "execution_count": null,
   "metadata": {},
   "outputs": [],
   "source": [
    "list(db.emp.find(\n",
    "    {\n",
    "        \"SAL\" : {\n",
    "           \"$gt\":\"2000\"                                   #2000보다 큰 이라는 뜻\n",
    "        }\n",
    "    }\n",
    "))\n"
   ]
  },
  {
   "cell_type": "code",
   "execution_count": 19,
   "metadata": {},
   "outputs": [
    {
     "name": "stdout",
     "output_type": "stream",
     "text": [
      "{'_id': ObjectId('6232c7014a2c0581e52c2b73'), 'EMPNO': 7566, 'ENAME': 'JONES', 'JOB': 'MANAGER', 'MGR': 7839, 'HIREDATE': '1981-04-02', 'SAL': 2975.0, 'DEPTNO': 20}\n",
      "{'_id': ObjectId('6232c7014a2c0581e52c2b75'), 'EMPNO': 7698, 'ENAME': 'BLAKE', 'JOB': 'MANAGER', 'MGR': 7839, 'HIREDATE': '1981-05-01', 'SAL': 2850.0, 'DEPTNO': 30}\n",
      "{'_id': ObjectId('6232c7014a2c0581e52c2b76'), 'EMPNO': 7782, 'ENAME': 'CLARK', 'JOB': 'MANAGER', 'MGR': 7839, 'HIREDATE': '1981-06-09', 'SAL': 2450.0, 'DEPTNO': 10}\n",
      "{'_id': ObjectId('6232c7014a2c0581e52c2b77'), 'EMPNO': 7788, 'ENAME': 'SCOTT', 'JOB': 'ANALYST', 'MGR': 7566, 'HIREDATE': '1987-06-28', 'SAL': 3000.0, 'DEPTNO': 20}\n",
      "{'_id': ObjectId('6232c7014a2c0581e52c2b78'), 'EMPNO': 7839, 'ENAME': 'KING', 'JOB': 'PRESIDENT', 'HIREDATE': '1981-11-17', 'SAL': 5000.0, 'DEPTNO': 10}\n",
      "{'_id': ObjectId('6232c7014a2c0581e52c2b7c'), 'EMPNO': 7902, 'ENAME': 'FORD', 'JOB': 'ANALYST', 'MGR': 7566, 'HIREDATE': '1981-12-03', 'SAL': 3000.0, 'DEPTNO': 20}\n"
     ]
    }
   ],
   "source": [
    "#급여 >=2450 데이터만 출력\n",
    "result=db.emp.find(\n",
    "    {\n",
    "        \"SAL\" : {\n",
    "           \"$gte\":2450                                   #2000보다 크거나 같은 이라는 뜻\n",
    "        }\n",
    "    }\n",
    ")\n",
    "\n",
    "for list in result:\n",
    "    print(list)\n",
    "\n",
    "#select * from emp where SAL>=2450"
   ]
  },
  {
   "cell_type": "code",
   "execution_count": 21,
   "metadata": {},
   "outputs": [
    {
     "name": "stdout",
     "output_type": "stream",
     "text": [
      "{'_id': ObjectId('6232c7014a2c0581e52c2b70'), 'EMPNO': 7369, 'ENAME': 'SMITH', 'JOB': 'CLERK', 'MGR': 7902, 'HIREDATE': '1980-12-17', 'SAL': 800.0, 'DEPTNO': 20}\n",
      "{'_id': ObjectId('6232c7014a2c0581e52c2b71'), 'EMPNO': 7499, 'ENAME': 'ALLEN', 'JOB': 'SALESMAN', 'MGR': 7698, 'HIREDATE': '1981-02-20', 'SAL': 1600.0, 'COMM': '300.00', 'DEPTNO': 30}\n",
      "{'_id': ObjectId('6232c7014a2c0581e52c2b72'), 'EMPNO': 7521, 'ENAME': 'WARD', 'JOB': 'SALESMAN', 'MGR': 7698, 'HIREDATE': '1981-02-22', 'SAL': 1250.0, 'COMM': '500.00', 'DEPTNO': 30}\n",
      "{'_id': ObjectId('6232c7014a2c0581e52c2b74'), 'EMPNO': 7654, 'ENAME': 'MARTIN', 'JOB': 'SALESMAN', 'MGR': 7698, 'HIREDATE': '1981-09-28', 'SAL': 1250.0, 'COMM': '1400.00', 'DEPTNO': 30}\n",
      "{'_id': ObjectId('6232c7014a2c0581e52c2b76'), 'EMPNO': 7782, 'ENAME': 'CLARK', 'JOB': 'MANAGER', 'MGR': 7839, 'HIREDATE': '1981-06-09', 'SAL': 2450.0, 'DEPTNO': 10}\n",
      "{'_id': ObjectId('6232c7014a2c0581e52c2b79'), 'EMPNO': 7844, 'ENAME': 'TURNER', 'JOB': 'SALESMAN', 'MGR': 7698, 'HIREDATE': '1981-09-08', 'SAL': 1500.0, 'COMM': '0.00', 'DEPTNO': 30}\n",
      "{'_id': ObjectId('6232c7014a2c0581e52c2b7a'), 'EMPNO': 7876, 'ENAME': 'ADAMS', 'JOB': 'CLERK', 'MGR': 7788, 'HIREDATE': '1987-07-13', 'SAL': 1100.0, 'DEPTNO': 20}\n",
      "{'_id': ObjectId('6232c7014a2c0581e52c2b7b'), 'EMPNO': 7900, 'ENAME': 'JAMES', 'JOB': 'CLERK', 'MGR': 7698, 'HIREDATE': '1981-12-03', 'SAL': 950.0, 'DEPTNO': 30}\n",
      "{'_id': ObjectId('6232c7014a2c0581e52c2b7d'), 'EMPNO': 7934, 'ENAME': 'MILLER', 'JOB': 'CLERK', 'MGR': 7782, 'HIREDATE': '1982-01-23', 'SAL': 1300.0, 'DEPTNO': 10}\n"
     ]
    }
   ],
   "source": [
    "#급여가 2450보다 작은 데이터만 출력\n",
    "result=db.emp.find(\n",
    "    {\n",
    "        \"SAL\" : {\n",
    "           \"$lte\":2450                                   #2000보다 작은 이라는 뜻\n",
    "        }\n",
    "    }\n",
    ")\n",
    "\n",
    "for list in result:\n",
    "    print(list)\n",
    "\n",
    "#select * from emp where SAL<2450\n",
    "#lte는 작거나 같은"
   ]
  },
  {
   "cell_type": "code",
   "execution_count": 23,
   "metadata": {},
   "outputs": [
    {
     "name": "stdout",
     "output_type": "stream",
     "text": [
      "{'_id': ObjectId('6232b74c4a2c0581e52c2b58'), 'EMPNO': '7369', 'ENAME': 'SMITH', 'JOB': 'CLERK', 'MGR': '7902', 'HIREDATE': '1980-12-17', 'SAL': '800.00', 'DEPTNO': '20'}\n",
      "{'_id': ObjectId('6232b74c4a2c0581e52c2b59'), 'EMPNO': '7499', 'ENAME': 'ALLEN', 'JOB': 'SALESMAN', 'MGR': '7698', 'HIREDATE': '1981-02-20', 'SAL': '1600.00', 'COMM': '300.00', 'DEPTNO': '30'}\n",
      "{'_id': ObjectId('6232c7014a2c0581e52c2b70'), 'EMPNO': 7369, 'ENAME': 'SMITH', 'JOB': 'CLERK', 'MGR': 7902, 'HIREDATE': '1980-12-17', 'SAL': 800.0, 'DEPTNO': 20}\n",
      "{'_id': ObjectId('6232c7014a2c0581e52c2b71'), 'EMPNO': 7499, 'ENAME': 'ALLEN', 'JOB': 'SALESMAN', 'MGR': 7698, 'HIREDATE': '1981-02-20', 'SAL': 1600.0, 'COMM': '300.00', 'DEPTNO': 30}\n"
     ]
    }
   ],
   "source": [
    "#select * from emp where ENAME =SMITH OR ENAME= ALLEN\n",
    "result=db.emp.find(\n",
    "    {\n",
    "        \"$or\":[\n",
    "            {\"ENAME\":\"SMITH\"},\n",
    "            {\"ENAME\":\"ALLEN\"}\n",
    "            \n",
    "        ]\n",
    "    }\n",
    ")\n",
    "\n",
    "for list in result:\n",
    "    print(list)"
   ]
  },
  {
   "cell_type": "code",
   "execution_count": 24,
   "metadata": {},
   "outputs": [
    {
     "name": "stdout",
     "output_type": "stream",
     "text": [
      "{'_id': ObjectId('6232b74c4a2c0581e52c2b58'), 'EMPNO': '7369', 'ENAME': 'SMITH', 'JOB': 'CLERK', 'MGR': '7902', 'HIREDATE': '1980-12-17', 'SAL': '800.00', 'DEPTNO': '20'}\n",
      "{'_id': ObjectId('6232c7014a2c0581e52c2b70'), 'EMPNO': 7369, 'ENAME': 'SMITH', 'JOB': 'CLERK', 'MGR': 7902, 'HIREDATE': '1980-12-17', 'SAL': 800.0, 'DEPTNO': 20}\n"
     ]
    }
   ],
   "source": [
    "#select * from emp where ENAME =SMITH AND JOB=CLERK\n",
    "result=db.emp.find(\n",
    "    {\n",
    "        \"$and\":[\n",
    "            {\"ENAME\":\"SMITH\"},\n",
    "            {\"JOB\":\"CLERK\"}\n",
    "            \n",
    "        ]\n",
    "    }\n",
    ")\n",
    "\n",
    "for list in result:\n",
    "    print(list)"
   ]
  },
  {
   "cell_type": "code",
   "execution_count": 25,
   "metadata": {},
   "outputs": [
    {
     "name": "stdout",
     "output_type": "stream",
     "text": [
      "{'_id': ObjectId('6232b74c4a2c0581e52c2b58'), 'EMPNO': '7369', 'ENAME': 'SMITH', 'JOB': 'CLERK', 'MGR': '7902', 'HIREDATE': '1980-12-17', 'SAL': '800.00', 'DEPTNO': '20'}\n",
      "{'_id': ObjectId('6232c7014a2c0581e52c2b70'), 'EMPNO': 7369, 'ENAME': 'SMITH', 'JOB': 'CLERK', 'MGR': 7902, 'HIREDATE': '1980-12-17', 'SAL': 800.0, 'DEPTNO': 20}\n"
     ]
    }
   ],
   "source": [
    "#select * from emp where ENAME =SMITH AND JOB=CLERK\n",
    "result=db.emp.find(\n",
    "    {\n",
    "        \"ENAME\":\"SMITH\",\n",
    "        \"JOB\":\"CLERK\"\n",
    "    }\n",
    ")\n",
    "\n",
    "for list in result:\n",
    "    print(list)\n",
    "#AND는 기본적으로 잡히므로 OR만 조심"
   ]
  },
  {
   "cell_type": "code",
   "execution_count": 39,
   "metadata": {},
   "outputs": [
    {
     "data": {
      "text/html": [
       "<div>\n",
       "<style scoped>\n",
       "    .dataframe tbody tr th:only-of-type {\n",
       "        vertical-align: middle;\n",
       "    }\n",
       "\n",
       "    .dataframe tbody tr th {\n",
       "        vertical-align: top;\n",
       "    }\n",
       "\n",
       "    .dataframe thead th {\n",
       "        text-align: right;\n",
       "    }\n",
       "</style>\n",
       "<table border=\"1\" class=\"dataframe\">\n",
       "  <thead>\n",
       "    <tr style=\"text-align: right;\">\n",
       "      <th></th>\n",
       "      <th>EMPNO</th>\n",
       "      <th>ENAME</th>\n",
       "      <th>JOB</th>\n",
       "      <th>MGR</th>\n",
       "      <th>HIREDATE</th>\n",
       "      <th>SAL</th>\n",
       "      <th>DEPTNO</th>\n",
       "    </tr>\n",
       "  </thead>\n",
       "  <tbody>\n",
       "    <tr>\n",
       "      <th>0</th>\n",
       "      <td>7566</td>\n",
       "      <td>JONES</td>\n",
       "      <td>MANAGER</td>\n",
       "      <td>7839</td>\n",
       "      <td>1981-04-02</td>\n",
       "      <td>2975.0</td>\n",
       "      <td>20</td>\n",
       "    </tr>\n",
       "    <tr>\n",
       "      <th>1</th>\n",
       "      <td>7698</td>\n",
       "      <td>BLAKE</td>\n",
       "      <td>MANAGER</td>\n",
       "      <td>7839</td>\n",
       "      <td>1981-05-01</td>\n",
       "      <td>2850.0</td>\n",
       "      <td>30</td>\n",
       "    </tr>\n",
       "    <tr>\n",
       "      <th>2</th>\n",
       "      <td>7782</td>\n",
       "      <td>CLARK</td>\n",
       "      <td>MANAGER</td>\n",
       "      <td>7839</td>\n",
       "      <td>1981-06-09</td>\n",
       "      <td>2450.0</td>\n",
       "      <td>10</td>\n",
       "    </tr>\n",
       "    <tr>\n",
       "      <th>3</th>\n",
       "      <td>7788</td>\n",
       "      <td>SCOTT</td>\n",
       "      <td>ANALYST</td>\n",
       "      <td>7566</td>\n",
       "      <td>1987-06-28</td>\n",
       "      <td>3000.0</td>\n",
       "      <td>20</td>\n",
       "    </tr>\n",
       "    <tr>\n",
       "      <th>4</th>\n",
       "      <td>7902</td>\n",
       "      <td>FORD</td>\n",
       "      <td>ANALYST</td>\n",
       "      <td>7566</td>\n",
       "      <td>1981-12-03</td>\n",
       "      <td>3000.0</td>\n",
       "      <td>20</td>\n",
       "    </tr>\n",
       "  </tbody>\n",
       "</table>\n",
       "</div>"
      ],
      "text/plain": [
       "   EMPNO  ENAME      JOB   MGR    HIREDATE     SAL  DEPTNO\n",
       "0   7566  JONES  MANAGER  7839  1981-04-02  2975.0      20\n",
       "1   7698  BLAKE  MANAGER  7839  1981-05-01  2850.0      30\n",
       "2   7782  CLARK  MANAGER  7839  1981-06-09  2450.0      10\n",
       "3   7788  SCOTT  ANALYST  7566  1987-06-28  3000.0      20\n",
       "4   7902   FORD  ANALYST  7566  1981-12-03  3000.0      20"
      ]
     },
     "execution_count": 39,
     "metadata": {},
     "output_type": "execute_result"
    }
   ],
   "source": [
    "#SELET *FROM emp WHERE SAL>=2000 AND SAL<4000\n",
    "result = db.emp.find(\n",
    "    {\n",
    "        \"SAL\":{\n",
    "            \"$gte\":2000,\n",
    "            \"$lt\":4000}\n",
    "    },{\"_id\":0}\n",
    ")\n",
    "pd.DataFrame(result)\n",
    "#_id를 없애려면 \"_id\":0"
   ]
  },
  {
   "cell_type": "code",
   "execution_count": 43,
   "metadata": {},
   "outputs": [
    {
     "data": {
      "text/html": [
       "<div>\n",
       "<style scoped>\n",
       "    .dataframe tbody tr th:only-of-type {\n",
       "        vertical-align: middle;\n",
       "    }\n",
       "\n",
       "    .dataframe tbody tr th {\n",
       "        vertical-align: top;\n",
       "    }\n",
       "\n",
       "    .dataframe thead th {\n",
       "        text-align: right;\n",
       "    }\n",
       "</style>\n",
       "<table border=\"1\" class=\"dataframe\">\n",
       "  <thead>\n",
       "    <tr style=\"text-align: right;\">\n",
       "      <th></th>\n",
       "      <th>_id</th>\n",
       "      <th>EMPNO</th>\n",
       "      <th>ENAME</th>\n",
       "      <th>JOB</th>\n",
       "      <th>MGR</th>\n",
       "      <th>HIREDATE</th>\n",
       "      <th>SAL</th>\n",
       "      <th>DEPTNO</th>\n",
       "    </tr>\n",
       "  </thead>\n",
       "  <tbody>\n",
       "    <tr>\n",
       "      <th>0</th>\n",
       "      <td>6232b74c4a2c0581e52c2b58</td>\n",
       "      <td>7369</td>\n",
       "      <td>SMITH</td>\n",
       "      <td>CLERK</td>\n",
       "      <td>7902</td>\n",
       "      <td>1980-12-17</td>\n",
       "      <td>800.00</td>\n",
       "      <td>20</td>\n",
       "    </tr>\n",
       "    <tr>\n",
       "      <th>1</th>\n",
       "      <td>6232b74c4a2c0581e52c2b5b</td>\n",
       "      <td>7566</td>\n",
       "      <td>JONES</td>\n",
       "      <td>MANAGER</td>\n",
       "      <td>7839</td>\n",
       "      <td>1981-04-02</td>\n",
       "      <td>2975.00</td>\n",
       "      <td>20</td>\n",
       "    </tr>\n",
       "    <tr>\n",
       "      <th>2</th>\n",
       "      <td>6232b74c4a2c0581e52c2b5f</td>\n",
       "      <td>7788</td>\n",
       "      <td>SCOTT</td>\n",
       "      <td>ANALYST</td>\n",
       "      <td>7566</td>\n",
       "      <td>1987-06-28</td>\n",
       "      <td>3000.00</td>\n",
       "      <td>20</td>\n",
       "    </tr>\n",
       "    <tr>\n",
       "      <th>3</th>\n",
       "      <td>6232b74c4a2c0581e52c2b62</td>\n",
       "      <td>7876</td>\n",
       "      <td>ADAMS</td>\n",
       "      <td>CLERK</td>\n",
       "      <td>7788</td>\n",
       "      <td>1987-07-13</td>\n",
       "      <td>1100.00</td>\n",
       "      <td>20</td>\n",
       "    </tr>\n",
       "    <tr>\n",
       "      <th>4</th>\n",
       "      <td>6232b74c4a2c0581e52c2b63</td>\n",
       "      <td>7900</td>\n",
       "      <td>JAMES</td>\n",
       "      <td>CLERK</td>\n",
       "      <td>7698</td>\n",
       "      <td>1981-12-03</td>\n",
       "      <td>950.00</td>\n",
       "      <td>30</td>\n",
       "    </tr>\n",
       "    <tr>\n",
       "      <th>5</th>\n",
       "      <td>6232c7014a2c0581e52c2b70</td>\n",
       "      <td>7369</td>\n",
       "      <td>SMITH</td>\n",
       "      <td>CLERK</td>\n",
       "      <td>7902</td>\n",
       "      <td>1980-12-17</td>\n",
       "      <td>800.0</td>\n",
       "      <td>20</td>\n",
       "    </tr>\n",
       "    <tr>\n",
       "      <th>6</th>\n",
       "      <td>6232c7014a2c0581e52c2b73</td>\n",
       "      <td>7566</td>\n",
       "      <td>JONES</td>\n",
       "      <td>MANAGER</td>\n",
       "      <td>7839</td>\n",
       "      <td>1981-04-02</td>\n",
       "      <td>2975.0</td>\n",
       "      <td>20</td>\n",
       "    </tr>\n",
       "    <tr>\n",
       "      <th>7</th>\n",
       "      <td>6232c7014a2c0581e52c2b77</td>\n",
       "      <td>7788</td>\n",
       "      <td>SCOTT</td>\n",
       "      <td>ANALYST</td>\n",
       "      <td>7566</td>\n",
       "      <td>1987-06-28</td>\n",
       "      <td>3000.0</td>\n",
       "      <td>20</td>\n",
       "    </tr>\n",
       "    <tr>\n",
       "      <th>8</th>\n",
       "      <td>6232c7014a2c0581e52c2b7a</td>\n",
       "      <td>7876</td>\n",
       "      <td>ADAMS</td>\n",
       "      <td>CLERK</td>\n",
       "      <td>7788</td>\n",
       "      <td>1987-07-13</td>\n",
       "      <td>1100.0</td>\n",
       "      <td>20</td>\n",
       "    </tr>\n",
       "    <tr>\n",
       "      <th>9</th>\n",
       "      <td>6232c7014a2c0581e52c2b7b</td>\n",
       "      <td>7900</td>\n",
       "      <td>JAMES</td>\n",
       "      <td>CLERK</td>\n",
       "      <td>7698</td>\n",
       "      <td>1981-12-03</td>\n",
       "      <td>950.0</td>\n",
       "      <td>30</td>\n",
       "    </tr>\n",
       "  </tbody>\n",
       "</table>\n",
       "</div>"
      ],
      "text/plain": [
       "                        _id EMPNO  ENAME      JOB   MGR    HIREDATE      SAL  \\\n",
       "0  6232b74c4a2c0581e52c2b58  7369  SMITH    CLERK  7902  1980-12-17   800.00   \n",
       "1  6232b74c4a2c0581e52c2b5b  7566  JONES  MANAGER  7839  1981-04-02  2975.00   \n",
       "2  6232b74c4a2c0581e52c2b5f  7788  SCOTT  ANALYST  7566  1987-06-28  3000.00   \n",
       "3  6232b74c4a2c0581e52c2b62  7876  ADAMS    CLERK  7788  1987-07-13  1100.00   \n",
       "4  6232b74c4a2c0581e52c2b63  7900  JAMES    CLERK  7698  1981-12-03   950.00   \n",
       "5  6232c7014a2c0581e52c2b70  7369  SMITH    CLERK  7902  1980-12-17    800.0   \n",
       "6  6232c7014a2c0581e52c2b73  7566  JONES  MANAGER  7839  1981-04-02   2975.0   \n",
       "7  6232c7014a2c0581e52c2b77  7788  SCOTT  ANALYST  7566  1987-06-28   3000.0   \n",
       "8  6232c7014a2c0581e52c2b7a  7876  ADAMS    CLERK  7788  1987-07-13   1100.0   \n",
       "9  6232c7014a2c0581e52c2b7b  7900  JAMES    CLERK  7698  1981-12-03    950.0   \n",
       "\n",
       "  DEPTNO  \n",
       "0     20  \n",
       "1     20  \n",
       "2     20  \n",
       "3     20  \n",
       "4     30  \n",
       "5     20  \n",
       "6     20  \n",
       "7     20  \n",
       "8     20  \n",
       "9     30  "
      ]
     },
     "execution_count": 43,
     "metadata": {},
     "output_type": "execute_result"
    }
   ],
   "source": [
    "#SELECT * FROM emp where ENAME LIKE %S%\n",
    "result =db.emp.find(\n",
    "    {\n",
    "        \"ENAME\":{\n",
    "            \"$regex\":\"S\"\n",
    "        }\n",
    "    }\n",
    "    \n",
    ")\n",
    "pd.DataFrame(result)"
   ]
  },
  {
   "cell_type": "code",
   "execution_count": 41,
   "metadata": {},
   "outputs": [
    {
     "data": {
      "text/html": [
       "<div>\n",
       "<style scoped>\n",
       "    .dataframe tbody tr th:only-of-type {\n",
       "        vertical-align: middle;\n",
       "    }\n",
       "\n",
       "    .dataframe tbody tr th {\n",
       "        vertical-align: top;\n",
       "    }\n",
       "\n",
       "    .dataframe thead th {\n",
       "        text-align: right;\n",
       "    }\n",
       "</style>\n",
       "<table border=\"1\" class=\"dataframe\">\n",
       "  <thead>\n",
       "    <tr style=\"text-align: right;\">\n",
       "      <th></th>\n",
       "      <th>_id</th>\n",
       "      <th>EMPNO</th>\n",
       "      <th>ENAME</th>\n",
       "      <th>JOB</th>\n",
       "      <th>MGR</th>\n",
       "      <th>HIREDATE</th>\n",
       "      <th>SAL</th>\n",
       "      <th>DEPTNO</th>\n",
       "    </tr>\n",
       "  </thead>\n",
       "  <tbody>\n",
       "    <tr>\n",
       "      <th>0</th>\n",
       "      <td>6232b74c4a2c0581e52c2b58</td>\n",
       "      <td>7369</td>\n",
       "      <td>SMITH</td>\n",
       "      <td>CLERK</td>\n",
       "      <td>7902</td>\n",
       "      <td>1980-12-17</td>\n",
       "      <td>800.00</td>\n",
       "      <td>20</td>\n",
       "    </tr>\n",
       "    <tr>\n",
       "      <th>1</th>\n",
       "      <td>6232b74c4a2c0581e52c2b5f</td>\n",
       "      <td>7788</td>\n",
       "      <td>SCOTT</td>\n",
       "      <td>ANALYST</td>\n",
       "      <td>7566</td>\n",
       "      <td>1987-06-28</td>\n",
       "      <td>3000.00</td>\n",
       "      <td>20</td>\n",
       "    </tr>\n",
       "    <tr>\n",
       "      <th>2</th>\n",
       "      <td>6232c7014a2c0581e52c2b70</td>\n",
       "      <td>7369</td>\n",
       "      <td>SMITH</td>\n",
       "      <td>CLERK</td>\n",
       "      <td>7902</td>\n",
       "      <td>1980-12-17</td>\n",
       "      <td>800.0</td>\n",
       "      <td>20</td>\n",
       "    </tr>\n",
       "    <tr>\n",
       "      <th>3</th>\n",
       "      <td>6232c7014a2c0581e52c2b77</td>\n",
       "      <td>7788</td>\n",
       "      <td>SCOTT</td>\n",
       "      <td>ANALYST</td>\n",
       "      <td>7566</td>\n",
       "      <td>1987-06-28</td>\n",
       "      <td>3000.0</td>\n",
       "      <td>20</td>\n",
       "    </tr>\n",
       "  </tbody>\n",
       "</table>\n",
       "</div>"
      ],
      "text/plain": [
       "                        _id EMPNO  ENAME      JOB   MGR    HIREDATE      SAL  \\\n",
       "0  6232b74c4a2c0581e52c2b58  7369  SMITH    CLERK  7902  1980-12-17   800.00   \n",
       "1  6232b74c4a2c0581e52c2b5f  7788  SCOTT  ANALYST  7566  1987-06-28  3000.00   \n",
       "2  6232c7014a2c0581e52c2b70  7369  SMITH    CLERK  7902  1980-12-17    800.0   \n",
       "3  6232c7014a2c0581e52c2b77  7788  SCOTT  ANALYST  7566  1987-06-28   3000.0   \n",
       "\n",
       "  DEPTNO  \n",
       "0     20  \n",
       "1     20  \n",
       "2     20  \n",
       "3     20  "
      ]
     },
     "execution_count": 41,
     "metadata": {},
     "output_type": "execute_result"
    }
   ],
   "source": [
    "#SELECT * FROM emp where ENAME LIKE S%\n",
    "result =db.emp.find(\n",
    "    {\n",
    "        \"ENAME\":{\n",
    "            \"$regex\":\"^S\"\n",
    "        }\n",
    "    }\n",
    "    \n",
    ")\n",
    "pd.DataFrame(result)"
   ]
  },
  {
   "cell_type": "code",
   "execution_count": 42,
   "metadata": {},
   "outputs": [
    {
     "data": {
      "text/html": [
       "<div>\n",
       "<style scoped>\n",
       "    .dataframe tbody tr th:only-of-type {\n",
       "        vertical-align: middle;\n",
       "    }\n",
       "\n",
       "    .dataframe tbody tr th {\n",
       "        vertical-align: top;\n",
       "    }\n",
       "\n",
       "    .dataframe thead th {\n",
       "        text-align: right;\n",
       "    }\n",
       "</style>\n",
       "<table border=\"1\" class=\"dataframe\">\n",
       "  <thead>\n",
       "    <tr style=\"text-align: right;\">\n",
       "      <th></th>\n",
       "      <th>_id</th>\n",
       "      <th>EMPNO</th>\n",
       "      <th>ENAME</th>\n",
       "      <th>JOB</th>\n",
       "      <th>MGR</th>\n",
       "      <th>HIREDATE</th>\n",
       "      <th>SAL</th>\n",
       "      <th>DEPTNO</th>\n",
       "    </tr>\n",
       "  </thead>\n",
       "  <tbody>\n",
       "    <tr>\n",
       "      <th>0</th>\n",
       "      <td>6232b74c4a2c0581e52c2b5b</td>\n",
       "      <td>7566</td>\n",
       "      <td>JONES</td>\n",
       "      <td>MANAGER</td>\n",
       "      <td>7839</td>\n",
       "      <td>1981-04-02</td>\n",
       "      <td>2975.00</td>\n",
       "      <td>20</td>\n",
       "    </tr>\n",
       "    <tr>\n",
       "      <th>1</th>\n",
       "      <td>6232b74c4a2c0581e52c2b62</td>\n",
       "      <td>7876</td>\n",
       "      <td>ADAMS</td>\n",
       "      <td>CLERK</td>\n",
       "      <td>7788</td>\n",
       "      <td>1987-07-13</td>\n",
       "      <td>1100.00</td>\n",
       "      <td>20</td>\n",
       "    </tr>\n",
       "    <tr>\n",
       "      <th>2</th>\n",
       "      <td>6232b74c4a2c0581e52c2b63</td>\n",
       "      <td>7900</td>\n",
       "      <td>JAMES</td>\n",
       "      <td>CLERK</td>\n",
       "      <td>7698</td>\n",
       "      <td>1981-12-03</td>\n",
       "      <td>950.00</td>\n",
       "      <td>30</td>\n",
       "    </tr>\n",
       "    <tr>\n",
       "      <th>3</th>\n",
       "      <td>6232c7014a2c0581e52c2b73</td>\n",
       "      <td>7566</td>\n",
       "      <td>JONES</td>\n",
       "      <td>MANAGER</td>\n",
       "      <td>7839</td>\n",
       "      <td>1981-04-02</td>\n",
       "      <td>2975.0</td>\n",
       "      <td>20</td>\n",
       "    </tr>\n",
       "    <tr>\n",
       "      <th>4</th>\n",
       "      <td>6232c7014a2c0581e52c2b7a</td>\n",
       "      <td>7876</td>\n",
       "      <td>ADAMS</td>\n",
       "      <td>CLERK</td>\n",
       "      <td>7788</td>\n",
       "      <td>1987-07-13</td>\n",
       "      <td>1100.0</td>\n",
       "      <td>20</td>\n",
       "    </tr>\n",
       "    <tr>\n",
       "      <th>5</th>\n",
       "      <td>6232c7014a2c0581e52c2b7b</td>\n",
       "      <td>7900</td>\n",
       "      <td>JAMES</td>\n",
       "      <td>CLERK</td>\n",
       "      <td>7698</td>\n",
       "      <td>1981-12-03</td>\n",
       "      <td>950.0</td>\n",
       "      <td>30</td>\n",
       "    </tr>\n",
       "  </tbody>\n",
       "</table>\n",
       "</div>"
      ],
      "text/plain": [
       "                        _id EMPNO  ENAME      JOB   MGR    HIREDATE      SAL  \\\n",
       "0  6232b74c4a2c0581e52c2b5b  7566  JONES  MANAGER  7839  1981-04-02  2975.00   \n",
       "1  6232b74c4a2c0581e52c2b62  7876  ADAMS    CLERK  7788  1987-07-13  1100.00   \n",
       "2  6232b74c4a2c0581e52c2b63  7900  JAMES    CLERK  7698  1981-12-03   950.00   \n",
       "3  6232c7014a2c0581e52c2b73  7566  JONES  MANAGER  7839  1981-04-02   2975.0   \n",
       "4  6232c7014a2c0581e52c2b7a  7876  ADAMS    CLERK  7788  1987-07-13   1100.0   \n",
       "5  6232c7014a2c0581e52c2b7b  7900  JAMES    CLERK  7698  1981-12-03    950.0   \n",
       "\n",
       "  DEPTNO  \n",
       "0     20  \n",
       "1     20  \n",
       "2     30  \n",
       "3     20  \n",
       "4     20  \n",
       "5     30  "
      ]
     },
     "execution_count": 42,
     "metadata": {},
     "output_type": "execute_result"
    }
   ],
   "source": [
    "#SELECT * FROM emp where ENAME LIKE %S\n",
    "result =db.emp.find(\n",
    "    {\n",
    "        \"ENAME\":{\n",
    "            \"$regex\":\"S$\"\n",
    "        }\n",
    "    }\n",
    "    \n",
    ")\n",
    "pd.DataFrame(result)"
   ]
  },
  {
   "cell_type": "code",
   "execution_count": 55,
   "metadata": {},
   "outputs": [
    {
     "data": {
      "text/html": [
       "<div>\n",
       "<style scoped>\n",
       "    .dataframe tbody tr th:only-of-type {\n",
       "        vertical-align: middle;\n",
       "    }\n",
       "\n",
       "    .dataframe tbody tr th {\n",
       "        vertical-align: top;\n",
       "    }\n",
       "\n",
       "    .dataframe thead th {\n",
       "        text-align: right;\n",
       "    }\n",
       "</style>\n",
       "<table border=\"1\" class=\"dataframe\">\n",
       "  <thead>\n",
       "    <tr style=\"text-align: right;\">\n",
       "      <th></th>\n",
       "      <th>ENAME</th>\n",
       "      <th>JOB</th>\n",
       "      <th>SAL</th>\n",
       "      <th>DEPTNO</th>\n",
       "    </tr>\n",
       "  </thead>\n",
       "  <tbody>\n",
       "    <tr>\n",
       "      <th>0</th>\n",
       "      <td>ALLEN</td>\n",
       "      <td>SALESMAN</td>\n",
       "      <td>1600.0</td>\n",
       "      <td>30</td>\n",
       "    </tr>\n",
       "    <tr>\n",
       "      <th>1</th>\n",
       "      <td>TURNER</td>\n",
       "      <td>SALESMAN</td>\n",
       "      <td>1500.0</td>\n",
       "      <td>30</td>\n",
       "    </tr>\n",
       "  </tbody>\n",
       "</table>\n",
       "</div>"
      ],
      "text/plain": [
       "    ENAME       JOB     SAL  DEPTNO\n",
       "0   ALLEN  SALESMAN  1600.0      30\n",
       "1  TURNER  SALESMAN  1500.0      30"
      ]
     },
     "execution_count": 55,
     "metadata": {},
     "output_type": "execute_result"
    }
   ],
   "source": [
    "# SELECT ENAME, JOB, SAL, DEPTNO FROM emp \n",
    "# WHERE SAL >1250 AND\n",
    "# SAL <= 3000 AND\n",
    "# JOB = SALESMAN\n",
    "# ORDER BY ENAME\n",
    "\n",
    "result= db.emp.find(\n",
    "    {\n",
    "        \"SAL\":{\n",
    "            \"$gt\":1250,\n",
    "            \"$lte\":3000\n",
    "        },\n",
    "        \"JOB\":\"SALESMAN\"\n",
    "        },\n",
    "        {\n",
    "            \"ENAME\":1,\n",
    "            \"JOB\":1,\n",
    "            \"SAL\":1,\n",
    "            \"DEPTNO\":1,\n",
    "            \"_id\":0\n",
    "        }\n",
    "    ).sort(\"ENAME\")                          #1은 오름차순 -1은 내림차순\n",
    "\n",
    "pd.DataFrame(result)"
   ]
  },
  {
   "cell_type": "code",
   "execution_count": null,
   "metadata": {},
   "outputs": [],
   "source": []
  }
 ],
 "metadata": {
  "interpreter": {
   "hash": "f34cd9ef3a25a401ef1891262e0b6ad7ff3305bbc44f242c8aa5d1053ab3e25e"
  },
  "kernelspec": {
   "display_name": "Python 3.10.2 64-bit (windows store)",
   "language": "python",
   "name": "python3"
  },
  "language_info": {
   "codemirror_mode": {
    "name": "ipython",
    "version": 3
   },
   "file_extension": ".py",
   "mimetype": "text/x-python",
   "name": "python",
   "nbconvert_exporter": "python",
   "pygments_lexer": "ipython3",
   "version": "3.10.2"
  },
  "orig_nbformat": 4
 },
 "nbformat": 4,
 "nbformat_minor": 2
}
