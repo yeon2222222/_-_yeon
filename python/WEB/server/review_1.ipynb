{
 "cells": [
  {
   "cell_type": "code",
   "execution_count": 1,
   "metadata": {},
   "outputs": [
    {
     "name": "stdout",
     "output_type": "stream",
     "text": [
      "15\n"
     ]
    }
   ],
   "source": [
    "#사칙연산\n",
    "print(10+5)\n"
   ]
  },
  {
   "cell_type": "code",
   "execution_count": 2,
   "metadata": {},
   "outputs": [
    {
     "name": "stdout",
     "output_type": "stream",
     "text": [
      "helloworld\n"
     ]
    }
   ],
   "source": [
    "#문자붙이기도 가능\n",
    "print(\"hello\"+\"world\")"
   ]
  },
  {
   "cell_type": "code",
   "execution_count": 3,
   "metadata": {},
   "outputs": [
    {
     "name": "stdout",
     "output_type": "stream",
     "text": [
      "1234\n"
     ]
    }
   ],
   "source": [
    "#변수: 파이썬사용시 편리, 이름을 변수명에서 지정하고 밑에서 사용하겠다.\n",
    "# 변수 지정 방법: 변수명one을 넣어줌\n",
    "# 뒤에 변수의 데이터 형태를 넣어줌\n",
    "input_one = \"hello world\"\n",
    "#inputOne으로 쓰기도함 \n",
    "input_one = 1234 # 변수 중복시 가장 나중에 지정한 변수적용 헬러월드로 되돌아 갈수 있는 방법 없음 \n",
    "\n",
    "print(input_one)\n",
    "#변수명 적을 시 주의점: 파이썬에 저장된 예약어를 사용해 변수로 사용할 수 없다. if,for\n",
    "#숫자로 시작하면 안된다. 변수지정시에는 중복안됨\n",
    "#공백있으면 안됨\n",
    "#언더바 _를 제외한 특수문자를 쓰면 안됨 "
   ]
  },
  {
   "cell_type": "code",
   "execution_count": 5,
   "metadata": {},
   "outputs": [],
   "source": [
    "#bool타입의 데이터-> 조건문, 반복문\n",
    "\n",
    "bool_str = True\n",
    "bool_str_2 = False"
   ]
  },
  {
   "cell_type": "code",
   "execution_count": 6,
   "metadata": {},
   "outputs": [
    {
     "name": "stdout",
     "output_type": "stream",
     "text": [
      "3.14\n"
     ]
    }
   ],
   "source": [
    "#데이터 형태 : float\n",
    "float_num = 3.14\n",
    "print(float_num)"
   ]
  },
  {
   "cell_type": "code",
   "execution_count": 7,
   "metadata": {},
   "outputs": [
    {
     "name": "stdout",
     "output_type": "stream",
     "text": [
      "(1, 2, 3, 4)\n",
      "3\n",
      "((1, 2, 3), (4, 5, 6))\n",
      "5\n",
      "(4, 5, 6)\n"
     ]
    }
   ],
   "source": [
    "#튜플 형태: ()\n",
    "#가장 기본적인 리스트의 형태\n",
    "#데이터의 수정 불가\n",
    "tuple_num = (1,2,3,4)\n",
    "print(tuple_num)\n",
    "\n",
    "# 3을 출력하려면?\n",
    "print(tuple_num[2])\n",
    "#튜플안에 튜플 적기\n",
    "tuple_num_2 =((1,2,3),(4,5,6))\n",
    "print(tuple_num_2)\n",
    "# 5를 출력하려면?\n",
    "print(tuple_num_2[1][1])\n",
    "print(tuple_num_2[1])#->(4,5,6)\n"
   ]
  },
  {
   "cell_type": "code",
   "execution_count": 8,
   "metadata": {},
   "outputs": [
    {
     "name": "stdout",
     "output_type": "stream",
     "text": [
      "[1, 2, 3, 4, 'a']\n"
     ]
    }
   ],
   "source": [
    "#리스트 형태:[]\n",
    "#리스트와 튜플의 차이는 ?->데이터의 수정 가능 유무\n",
    "\n",
    "list_num=[1,2,3,4,\"a\"]\n",
    "print(list_num)\n",
    "# 리스트 안의 데이터의 형태는 상관 없음->[1,2,3,4,'a']로 나옴"
   ]
  },
  {
   "cell_type": "code",
   "execution_count": 12,
   "metadata": {},
   "outputs": [
    {
     "name": "stdout",
     "output_type": "stream",
     "text": [
      "test\n"
     ]
    }
   ],
   "source": [
    "#딕셔너리 형태:{}\n",
    "#안에 들어가는 데이터의 형태 {'key1':'value1''key2':'value2'}\n",
    "\n",
    "dict_num = {\"name\":\"test\", \"phone\":\"01033334444\"}\n",
    "\n",
    "#test를 출력하려면? 키값을 기준으로 값을 출력\n",
    "\n",
    "print(dict_num[\"name\"])\n",
    "#객체마다 특정값을 지정해서 저장하기 위해서 \n",
    "#데이터가 많아질수록 사용하기 편리 \n",
    "#왜 이런형태를 만들었는지 , 쓰기가 편리한게 무엇인지 생각하면서 데이터 형태를 정하고 짤때 시간적으로 도움이 됨"
   ]
  },
  {
   "cell_type": "code",
   "execution_count": 15,
   "metadata": {},
   "outputs": [
    {
     "name": "stdout",
     "output_type": "stream",
     "text": [
      "a는 8보다 크다\n"
     ]
    }
   ],
   "source": [
    "#조건문 if 조건식 : \n",
    "a=10 \n",
    "if a>8 :\n",
    "    print(\"a는 8보다 크다\") # 들여쓰기 if 조건식이 참일 때 실행\n",
    "\n"
   ]
  },
  {
   "cell_type": "code",
   "execution_count": 18,
   "metadata": {},
   "outputs": [
    {
     "name": "stdout",
     "output_type": "stream",
     "text": [
      "a는 8보다 작다\n"
     ]
    }
   ],
   "source": [
    "a=5 \n",
    "if a>8 :\n",
    "    print(\"a는 8보다 크다\") \n",
    "else:\n",
    "    print(\"a는 8보다 작다\")#조건식이 거짓인 경우 출력하고 싶으면 else문"
   ]
  },
  {
   "cell_type": "code",
   "execution_count": 31,
   "metadata": {},
   "outputs": [
    {
     "name": "stdout",
     "output_type": "stream",
     "text": [
      "실패\n"
     ]
    }
   ],
   "source": [
    "b=\"\"\n",
    "if b: #변수가 존재하면 참\"1\", 변수가 존재하지 않으면 거짓\"\"\n",
    "    print(\"성공\")\n",
    "else:\n",
    "    print(\"실패\")"
   ]
  },
  {
   "cell_type": "code",
   "execution_count": 32,
   "metadata": {},
   "outputs": [
    {
     "name": "stdout",
     "output_type": "stream",
     "text": [
      "성공\n"
     ]
    }
   ],
   "source": [
    "b=\"1\"\n",
    "if b: #변수가 존재하면 참, 변수가 존재하지 않으면 거짓\n",
    "    print(\"성공\")\n",
    "else:\n",
    "    print(\"실패\")"
   ]
  },
  {
   "cell_type": "code",
   "execution_count": 39,
   "metadata": {},
   "outputs": [
    {
     "ename": "IndentationError",
     "evalue": "expected an indented block after 'if' statement on line 3 (581834687.py, line 4)",
     "output_type": "error",
     "traceback": [
      "\u001b[1;36m  Input \u001b[1;32mIn [39]\u001b[1;36m\u001b[0m\n\u001b[1;33m    print(\"a는 8보다 크다\")\u001b[0m\n\u001b[1;37m    ^\u001b[0m\n\u001b[1;31mIndentationError\u001b[0m\u001b[1;31m:\u001b[0m expected an indented block after 'if' statement on line 3\n"
     ]
    }
   ],
   "source": [
    "# if조건식과 관계없이 출력\n",
    "a=10 \n",
    "if a>8 :\n",
    "print(\"a는 8보다 크다\")"
   ]
  },
  {
   "cell_type": "code",
   "execution_count": 35,
   "metadata": {},
   "outputs": [
    {
     "name": "stdout",
     "output_type": "stream",
     "text": [
      "1번째반복\n",
      "2번째반복\n",
      "3번째반복\n",
      "4번째반복\n",
      "5번째반복\n",
      "6번째반복\n",
      "7번째반복\n",
      "8번째반복\n",
      "9번째반복\n"
     ]
    }
   ],
   "source": [
    "#반복문 for문 ,while문\n",
    "for i in range(1,10,1):#1부터 시작해서 10되면 종료할건데 1씩증가\n",
    "    print(\"%d번째반복\" %i) #%d->정수,%s->문자, %f->실수"
   ]
  },
  {
   "cell_type": "code",
   "execution_count": 55,
   "metadata": {},
   "outputs": [
    {
     "name": "stdout",
     "output_type": "stream",
     "text": [
      "{'name': 'test1', 'passwd': '1234'}\n",
      "{'name': 'test2', 'passwd': '1234'}\n",
      "{'name': 'teat3', 'passwd': '1234'}\n"
     ]
    }
   ],
   "source": [
    "dict_list = [{\"name\":\"test1\",\"passwd\":\"1234\"},\n",
    "            {\"name\":\"test2\",\"passwd\":\"1234\"},\n",
    "            {\"name\":\"teat3\",\"passwd\":\"1234\"}]\n",
    "#list형태의 데이터를 각 항별로 순서대로 출력하는 for문 \n",
    "for list in  dict_list: #dict_list를 기준으로\n",
    "    print(list)\n",
    "#for i in range(0,len(dict_list),1)# i는 딕셔너리 형태로 지정 \n",
    "#    print(dict_list[i])\n",
    "#print(dict_list[i][\"name\"])->name만 출력\n"
   ]
  },
  {
   "cell_type": "code",
   "execution_count": 57,
   "metadata": {},
   "outputs": [
    {
     "name": "stdout",
     "output_type": "stream",
     "text": [
      "test1\n",
      "test2\n",
      "teat3\n"
     ]
    }
   ],
   "source": [
    "#name 값만 출력\n",
    "for i in  dict_list:\n",
    "    print(i[\"name\"])\n"
   ]
  },
  {
   "cell_type": "code",
   "execution_count": 63,
   "metadata": {},
   "outputs": [
    {
     "name": "stdout",
     "output_type": "stream",
     "text": [
      "2\n",
      "6\n",
      "13\n"
     ]
    }
   ],
   "source": [
    "#while문\n",
    "sum=1\n",
    "i=1\n",
    "while i < 10:\n",
    "    sum+=i\n",
    "    i+=3\n",
    "    print(\"%d\"%sum)\n"
   ]
  },
  {
   "cell_type": "code",
   "execution_count": 71,
   "metadata": {},
   "outputs": [
    {
     "name": "stdout",
     "output_type": "stream",
     "text": [
      "{'name': 'test1', 'passwd': '1234'}\n",
      "{'name': 'test2', 'passwd': '1234'}\n"
     ]
    }
   ],
   "source": [
    "i=0\n",
    "while i <len(dict_list): #수로 넣어도 됨\n",
    "    print(dict_list[i])\n",
    "    i+=1 #1씩증가"
   ]
  },
  {
   "cell_type": "code",
   "execution_count": 69,
   "metadata": {},
   "outputs": [
    {
     "data": {
      "text/plain": [
       "3"
      ]
     },
     "execution_count": 69,
     "metadata": {},
     "output_type": "execute_result"
    }
   ],
   "source": [
    "len(dict_list)"
   ]
  },
  {
   "cell_type": "code",
   "execution_count": 100,
   "metadata": {},
   "outputs": [
    {
     "name": "stdout",
     "output_type": "stream",
     "text": [
      "test1\n",
      "test2\n",
      "teat3\n"
     ]
    }
   ],
   "source": [
    "#함수 : 반복되는 행동을 쉽게 하려고 함수명을 지정한 후 실행\n",
    "# def 함수명(매개변수1,매개변수2): 매개변수를 뭘 넣어야 하는 지 모르겠다!!!!!!!!!!!!!!!!!!!!!!\n",
    "#함수 호출 시 -> 함수명(인자, 인자)\n",
    "#함수를 호출하면 dict_list값이 출력되게 인자 값에 키값을 넣어주고 그 키값에 해당하는 값만 출력되도록\n",
    "def func_1(input_key):# 함수 만들고 매개변수 키값지정\n",
    "    for list in dict_list:#키값에 해당하는 값을 밸류를 출력 dict_list를 for돌린다\n",
    "        print(list[input_key])#키값 넣어주기\n",
    "func_1(\"name\")#->def func_2(\"name\") ->print(list[\"name\"])\n",
    "#->def func_2(\"passwd\") ->print(list[\"passwd\"])"
   ]
  },
  {
   "cell_type": "code",
   "execution_count": 102,
   "metadata": {},
   "outputs": [
    {
     "name": "stdout",
     "output_type": "stream",
     "text": [
      "1234\n",
      "1234\n",
      "1234\n"
     ]
    }
   ],
   "source": [
    "def func_1(input_key):# 함수 만들고 매개변수 키값지정\n",
    "    for i in range(0,len(dict_list),1):\n",
    "        print(dict_list[i][input_key])#키값 넣어주기\n",
    "func_1(\"passwd\")"
   ]
  },
  {
   "cell_type": "code",
   "execution_count": 103,
   "metadata": {},
   "outputs": [
    {
     "name": "stdout",
     "output_type": "stream",
     "text": [
      "test1\n",
      "test2\n",
      "teat3\n"
     ]
    }
   ],
   "source": [
    "func_1(\"name\")"
   ]
  },
  {
   "cell_type": "code",
   "execution_count": null,
   "metadata": {},
   "outputs": [],
   "source": [
    "#while\n",
    "def func_2(input_key):\n",
    "    i=0 #초기값지정\n",
    "    while i<len(dict_list):\n",
    "        "
   ]
  },
  {
   "cell_type": "code",
   "execution_count": 107,
   "metadata": {},
   "outputs": [
    {
     "name": "stdout",
     "output_type": "stream",
     "text": [
      "test1\n",
      "test2\n",
      "teat3\n"
     ]
    }
   ],
   "source": [
    "def func_2(list,input_key):\n",
    "    i=0 #초기값지정\n",
    "    while i<len(list):\n",
    "        print(list[i][input_key])     \n",
    "        i+=1\n",
    "func_2(dict_list,\"name\") "
   ]
  },
  {
   "cell_type": "code",
   "execution_count": 109,
   "metadata": {},
   "outputs": [
    {
     "name": "stdout",
     "output_type": "stream",
     "text": [
      "hello\n"
     ]
    }
   ],
   "source": [
    "#함수 \n",
    "def func_3():\n",
    "    return\"hello\"#함수를 호출했을때 return뒤의 말을 호출\n",
    "\n",
    "print(func_3())"
   ]
  },
  {
   "cell_type": "code",
   "execution_count": 114,
   "metadata": {},
   "outputs": [
    {
     "name": "stdout",
     "output_type": "stream",
     "text": [
      "11\n"
     ]
    }
   ],
   "source": [
    "a=10 # a는 전역변수(함수 전체)\n",
    "\n",
    "def func_4(input_a,input_b):\n",
    "    result = input_a+input_b #result는 지역변수 (함수 내)\n",
    "    return  result\n",
    "\n",
    "print(func_4(5,6))"
   ]
  },
  {
   "cell_type": "code",
   "execution_count": 116,
   "metadata": {},
   "outputs": [
    {
     "name": "stdout",
     "output_type": "stream",
     "text": [
      "10\n"
     ]
    }
   ],
   "source": [
    "def func_5():#함수5가 실행\n",
    "    a=10\n",
    "    def func_6():\n",
    "        print(a)\n",
    "    func_6()#함수6은 a를 프린트해서 10이 됨\n",
    "\n",
    "func_5()"
   ]
  },
  {
   "cell_type": "code",
   "execution_count": 117,
   "metadata": {},
   "outputs": [
    {
     "ename": "NameError",
     "evalue": "free variable 'a' referenced before assignment in enclosing scope",
     "output_type": "error",
     "traceback": [
      "\u001b[1;31m---------------------------------------------------------------------------\u001b[0m",
      "\u001b[1;31mNameError\u001b[0m                                 Traceback (most recent call last)",
      "\u001b[1;32mc:\\Users\\heeyeon\\Desktop\\2022\\빅데이터 분석\\WEB\\server\\review_1.ipynb Cell 28'\u001b[0m in \u001b[0;36m<module>\u001b[1;34m\u001b[0m\n\u001b[0;32m      <a href='vscode-notebook-cell:/c%3A/Users/heeyeon/Desktop/2022/%EB%B9%85%EB%8D%B0%EC%9D%B4%ED%84%B0%20%EB%B6%84%EC%84%9D/WEB/server/review_1.ipynb#ch0000031?line=3'>4</a>\u001b[0m     func_6()\u001b[39m#함수6은 a를 프린트해서 10이 됨\u001b[39;00m\n\u001b[0;32m      <a href='vscode-notebook-cell:/c%3A/Users/heeyeon/Desktop/2022/%EB%B9%85%EB%8D%B0%EC%9D%B4%ED%84%B0%20%EB%B6%84%EC%84%9D/WEB/server/review_1.ipynb#ch0000031?line=4'>5</a>\u001b[0m     a\u001b[39m=\u001b[39m\u001b[39m15\u001b[39m\n\u001b[1;32m----> <a href='vscode-notebook-cell:/c%3A/Users/heeyeon/Desktop/2022/%EB%B9%85%EB%8D%B0%EC%9D%B4%ED%84%B0%20%EB%B6%84%EC%84%9D/WEB/server/review_1.ipynb#ch0000031?line=5'>6</a>\u001b[0m func_5()\n",
      "\u001b[1;32mc:\\Users\\heeyeon\\Desktop\\2022\\빅데이터 분석\\WEB\\server\\review_1.ipynb Cell 28'\u001b[0m in \u001b[0;36mfunc_5\u001b[1;34m()\u001b[0m\n\u001b[0;32m      <a href='vscode-notebook-cell:/c%3A/Users/heeyeon/Desktop/2022/%EB%B9%85%EB%8D%B0%EC%9D%B4%ED%84%B0%20%EB%B6%84%EC%84%9D/WEB/server/review_1.ipynb#ch0000031?line=1'>2</a>\u001b[0m \u001b[39mdef\u001b[39;00m \u001b[39mfunc_6\u001b[39m():\n\u001b[0;32m      <a href='vscode-notebook-cell:/c%3A/Users/heeyeon/Desktop/2022/%EB%B9%85%EB%8D%B0%EC%9D%B4%ED%84%B0%20%EB%B6%84%EC%84%9D/WEB/server/review_1.ipynb#ch0000031?line=2'>3</a>\u001b[0m     \u001b[39mprint\u001b[39m(a)\n\u001b[1;32m----> <a href='vscode-notebook-cell:/c%3A/Users/heeyeon/Desktop/2022/%EB%B9%85%EB%8D%B0%EC%9D%B4%ED%84%B0%20%EB%B6%84%EC%84%9D/WEB/server/review_1.ipynb#ch0000031?line=3'>4</a>\u001b[0m func_6()\u001b[39m#함수6은 a를 프린트해서 10이 됨\u001b[39;00m\n\u001b[0;32m      <a href='vscode-notebook-cell:/c%3A/Users/heeyeon/Desktop/2022/%EB%B9%85%EB%8D%B0%EC%9D%B4%ED%84%B0%20%EB%B6%84%EC%84%9D/WEB/server/review_1.ipynb#ch0000031?line=4'>5</a>\u001b[0m a\u001b[39m=\u001b[39m\u001b[39m15\u001b[39m\n",
      "\u001b[1;32mc:\\Users\\heeyeon\\Desktop\\2022\\빅데이터 분석\\WEB\\server\\review_1.ipynb Cell 28'\u001b[0m in \u001b[0;36mfunc_5.<locals>.func_6\u001b[1;34m()\u001b[0m\n\u001b[0;32m      <a href='vscode-notebook-cell:/c%3A/Users/heeyeon/Desktop/2022/%EB%B9%85%EB%8D%B0%EC%9D%B4%ED%84%B0%20%EB%B6%84%EC%84%9D/WEB/server/review_1.ipynb#ch0000031?line=1'>2</a>\u001b[0m \u001b[39mdef\u001b[39;00m \u001b[39mfunc_6\u001b[39m():\n\u001b[1;32m----> <a href='vscode-notebook-cell:/c%3A/Users/heeyeon/Desktop/2022/%EB%B9%85%EB%8D%B0%EC%9D%B4%ED%84%B0%20%EB%B6%84%EC%84%9D/WEB/server/review_1.ipynb#ch0000031?line=2'>3</a>\u001b[0m     \u001b[39mprint\u001b[39m(a)\n",
      "\u001b[1;31mNameError\u001b[0m: free variable 'a' referenced before assignment in enclosing scope"
     ]
    }
   ],
   "source": [
    "def func_5():#함수5가 실행\n",
    "    def func_6():\n",
    "        print(a)\n",
    "    func_6()\n",
    "    a=15 # 함수 6이 먼저 실행되기 떄문에 a가 출력이 안됌\n",
    "func_5()"
   ]
  },
  {
   "cell_type": "code",
   "execution_count": 153,
   "metadata": {},
   "outputs": [
    {
     "name": "stdout",
     "output_type": "stream",
     "text": [
      "0\n"
     ]
    }
   ],
   "source": [
    "#함수 생성->매개 변수가 3개 ->def 함수 1(a,b,c):->함수안에 함수를 하나더 생성->함수1=a+b ,함수2=(a+b)-c를 만들어보자\n",
    "def func_7(a,b,c):\n",
    "    sum = a+b#지역변수\n",
    "\n",
    "    def func_8():#매개변수 없어도 \n",
    "        result=sum-c#지역\n",
    "        return result\n",
    "\n",
    "    print(func_8())\n",
    "func_7(1,2,3)\n"
   ]
  },
  {
   "cell_type": "code",
   "execution_count": 155,
   "metadata": {},
   "outputs": [
    {
     "name": "stdout",
     "output_type": "stream",
     "text": [
      "0\n"
     ]
    }
   ],
   "source": [
    "def func_9(input_a,input_b):\n",
    "    sum = input_a+ input_b #1+2\n",
    "    return sum #3\n",
    "def func_10(input_c,input_d,input_e):\n",
    "    sum_2= func_9(input_c,input_d) #위의 썸과 다름 지역변수이기떄문\n",
    "    result=sum_2 - input_e #3-3\n",
    "    return result\n",
    "\n",
    "print(func_10(1,2,3))"
   ]
  },
  {
   "cell_type": "code",
   "execution_count": 156,
   "metadata": {},
   "outputs": [
    {
     "name": "stdout",
     "output_type": "stream",
     "text": [
      "4\n"
     ]
    }
   ],
   "source": [
    "def func_9(input_a,input_b):\n",
    "    sum = input_a+ input_b #5+2\n",
    "    return sum #3\n",
    "def func_10(input_c,input_d,input_e):\n",
    "    sum_2= func_9(input_c,input_d) #위의 썸과 다름 지역변수이기떄문\n",
    "    result=sum_2 - input_e #7-3\n",
    "    return result\n",
    "\n",
    "print(func_10(5,2,3))"
   ]
  },
  {
   "cell_type": "code",
   "execution_count": 172,
   "metadata": {},
   "outputs": [
    {
     "name": "stdout",
     "output_type": "stream",
     "text": [
      "3\n"
     ]
    }
   ],
   "source": [
    "#인자값에는 숫자문자 다넣을수 있우ㅡㅁ\n",
    "# 함수 3개 생성->함수1은 두수의 합 출력->\n",
    "# 함수 2는 두수의 차 출력->함수 3은 def 함수3(a,b,c):에서 c의 값이 'S'면 함수1(a,b), c의값이 'D'이면 함수2(a,b) 호출 \n",
    "#print(함수3)\n",
    "\n",
    "def func_11(input_a,input_b):\n",
    "    sum1=input_a+input_b\n",
    "    return sum1\n",
    "def func_12(input_a,input_b):\n",
    "    sum2=input_a-input_b\n",
    "    return sum2\n",
    "def func_13(input_a,input_b, input_c):\n",
    "    if input_c == \"S\":\n",
    "        print(func_11(input_a,input_b))\n",
    "    elif input_c == \"D\":#else는 조건 못적음 \n",
    "        print(func_12(input_a,input_b))\n",
    "    \n",
    "\n",
    "func_13(1,2,\"S\")\n",
    "        "
   ]
  },
  {
   "cell_type": "code",
   "execution_count": 187,
   "metadata": {},
   "outputs": [
    {
     "name": "stdout",
     "output_type": "stream",
     "text": [
      "3\n",
      "None\n"
     ]
    }
   ],
   "source": [
    "\n",
    "def func_13(input_e,input_f, input_g):\n",
    "    def func_11(input_a,input_b):\n",
    "        sum1=input_a+input_b\n",
    "    #return sum1\n",
    "        print(sum1)\n",
    "    def func_12(input_a,input_b):\n",
    "        sum2=input_a-input_b\n",
    "        print(sum2)\n",
    "    #return sum2\n",
    "    if input_g == \"S\":\n",
    "        print(func_11(input_e,input_f))\n",
    "    elif input_g == \"D\":#else는 조건 못적음 \n",
    "        print(func_12(input_e,input_f))\n",
    "    else:\n",
    "        return \"not matched\"\n",
    "\n",
    "func_13(1,2,\"S\")\n",
    "        "
   ]
  },
  {
   "cell_type": "code",
   "execution_count": 178,
   "metadata": {},
   "outputs": [
    {
     "data": {
      "text/plain": [
       "3"
      ]
     },
     "execution_count": 178,
     "metadata": {},
     "output_type": "execute_result"
    }
   ],
   "source": [
    "#\n",
    "def func_11(input_a,input_b):\n",
    "    result1=input_a + input_b\n",
    "    return result1\n",
    "\n",
    "def func_12(input_c,input_d):\n",
    "    result2=input_c - input_d\n",
    "    return result2\n",
    "\n",
    "def func_13(input_e,input_f, input_g):#\n",
    "    if input_g == \"S\":\n",
    "        result_3=func_11(input_e,input_f)#변수값 지정->호출시 인자값 필수!\n",
    "       # print(result_3)\n",
    "        return result_3\n",
    "    elif input_g == \"D\":#else는 조건 못적음 \n",
    "        result_4=func_12(input_e,input_f)\n",
    "       # print(result_4)\n",
    "        return result_4\n",
    "    else:\n",
    "        return \"not matched\"\n",
    "func_13(1,2,\"S\")\n",
    "#print(func_13(1,2,\"S\"))#->3, none 같이 나옴, 함수13호출할때return이 없어서 \n",
    "        "
   ]
  },
  {
   "cell_type": "code",
   "execution_count": 191,
   "metadata": {},
   "outputs": [
    {
     "name": "stdout",
     "output_type": "stream",
     "text": [
      "2\n",
      "4\n",
      "6\n",
      "8\n",
      "10\n"
     ]
    }
   ],
   "source": [
    "#함수 -> 입력을 두개 할것 a~b, c=\"짝수\",\"홀수\"\n",
    "# c짞수면 짝수만 c홀수 홀수만\n",
    "#반환되는 데이터의 형태는 자유\n",
    "\n",
    "# 함수 여러개 쓰기\n",
    "def func_14(input_a,input_b):\n",
    "    for i in range(input_a,input_b+1,1):\n",
    "        if i%2==0:\n",
    "            print(i)\n",
    "def func_15(input_a,input_b):\n",
    "    for i in range(input_a,input_b+1,1):\n",
    "        if i%2==1:\n",
    "            print(i)\n",
    "\n",
    "def func_16(input_a,input_b,input_c):\n",
    "    if input_c==\"짝수\":\n",
    "        func_14(input_a,input_b)\n",
    "    elif input_c==\"홀수\": #else가능\n",
    "        func_15(input_a,input_b)\n",
    "\n",
    "func_16(1,10,\"짝수\")\n",
    "    "
   ]
  },
  {
   "cell_type": "code",
   "execution_count": 209,
   "metadata": {},
   "outputs": [
    {
     "name": "stdout",
     "output_type": "stream",
     "text": [
      "1\n",
      "3\n",
      "5\n",
      "7\n",
      "9\n"
     ]
    }
   ],
   "source": [
    "def func_14(input_a,input_b):\n",
    "    for i in range(input_a,input_b+1,1):\n",
    "        if i%2==0:\n",
    "            print(i)\n",
    "def func_15(input_a,input_b):\n",
    "    for i in range(input_a,input_b+1,1):\n",
    "        if i%2==1:\n",
    "            print(i)\n",
    "\n",
    "def func_16(input_a,input_b,input_c):\n",
    "    if input_c==\"짝수\":\n",
    "        func_14(input_a,input_b)\n",
    "    else: #else가능\n",
    "        func_15(input_a,input_b)\n",
    "\n",
    "func_16(1,10,\"홀수\")"
   ]
  },
  {
   "cell_type": "code",
   "execution_count": null,
   "metadata": {},
   "outputs": [],
   "source": [
    "#.\n",
    "\n",
    "#방법1. 가장 느림 (for 반복문과 if 문장 이용)\n",
    "total = 0\n",
    "for i in range(1,101):  # [1,2,3,4,...,100]\n",
    "  if i%2 == 0:  # i가 짝수면\n",
    "    total += i  # total = total + i\n",
    "print(total)\n",
    "\n",
    " \n",
    "\n",
    "#방법2. 보통 (for 반복문만 이용)\n",
    "total = 0\n",
    "for i in range(2, 101, 2):  # [2,4,6,8,...,100]   \n",
    "  total += i\n",
    "print(total)\n",
    "\n",
    " \n",
    "\n",
    "#방법3. 보통  (sum() 함수 이용)\n",
    "print(sum(range(2,101,2)))  \n",
    "\n",
    " \n",
    "\n",
    "#방법4. 조금 빠름 (while 반복문 이용)\n",
    "total = 0\n",
    "n = 2\n",
    "while n < 101:   # while 반복문 이용\n",
    "  total += n\n",
    "  n += 2\n",
    "print(total)\n",
    "\n",
    " \n",
    "\n",
    "#방법5. 가장 빠름 (짝수 합 공식 이용)\n",
    "n = 100//2      # n = 짝수 개수\n",
    "print(n*(n+1))  # 짝수 합 공식\n"
   ]
  },
  {
   "cell_type": "code",
   "execution_count": 213,
   "metadata": {},
   "outputs": [
    {
     "name": "stdout",
     "output_type": "stream",
     "text": [
      "[4, 6, 8, 10, 12, 14, 16, 18, 20, 22, 24, 26, 28, 30]\n"
     ]
    }
   ],
   "source": [
    "def func_14(input_a,input_b):#4,30\n",
    "    _list = []\n",
    "    for i in range(input_a,input_b+1,1):\n",
    "        if i%2==0:\n",
    "            _list.append(i)\n",
    "    return _list\n",
    "\n",
    "def func_15(input_a,input_b):\n",
    "    _list = []\n",
    "    for i in range(input_a,input_b+1,1):\n",
    "        if i%2==1:\n",
    "            _list.append(i) #리스트에 i값을 추가한다\n",
    "    return _list\n",
    "\n",
    "def func_16(input_a,input_b,input_c):\n",
    "    if input_c==\"짝수\":\n",
    "        return func_14(input_a,input_b)\n",
    "    elif input_c==\"홀수\": #else가능\n",
    "        return func_15(input_a,input_b)\n",
    "\n",
    "print(func_16(4,30,\"짝수\"))\n",
    "#데이터를 출력했으면 저장해야함 \n",
    "#우선 리스트형태로 만드러보기, 변수 리스트를 선언해줘야함\n",
    "#지역변수"
   ]
  },
  {
   "cell_type": "code",
   "execution_count": 231,
   "metadata": {},
   "outputs": [
    {
     "name": "stdout",
     "output_type": "stream",
     "text": [
      "[1, 3, 5, 7, 9]\n"
     ]
    }
   ],
   "source": [
    "#전역변수\n",
    "_list_2=[]\n",
    "\n",
    "def func_17(input_a,input_b):#1,10\n",
    "\n",
    "    for i in range(input_a,input_b+1,1):\n",
    "        if i%2==0:\n",
    "            _list_2.append(i)\n",
    "            #print(i)\n",
    "\n",
    "def func_18(input_a,input_b):\n",
    "\n",
    "    for i in range(input_a,input_b+1,1):\n",
    "        if i%2==1:\n",
    "            _list_2.append(i)\n",
    "           # print(i)\n",
    "\n",
    "\n",
    "def func_19(input_a,input_b,input_c):\n",
    "\n",
    "    if input_c==\"짝수\":\n",
    "        return func_17(input_a,input_b)\n",
    "    elif input_c==\"홀수\": #else가능\n",
    "        return func_18(input_a,input_b)\n",
    "    #print(_list_2)\n",
    "\n",
    "func_19(1,10,\"홀수\")\n",
    "print(_list_2) #->[]뜸 :논블록킹 코드\n",
    "#코드 읽는 방식은 두가지인데 \n",
    "#믈락킹 코드: 어떤 작업이 끝날때까지 기다림\n",
    "#논블로킹코드를 사용하는 서버는 더많은 요청을 처리할 수 있음         \n"
   ]
  },
  {
   "cell_type": "code",
   "execution_count": 37,
   "metadata": {},
   "outputs": [],
   "source": [
    "import pandas as pd\n",
    "\n",
    "#df_1 = pd.DataFrame('a',index=[1], columns=['A'])\n",
    "df_1 = pd.DataFrame(('a','b','c'), columns=['A'])\n",
    "\n"
   ]
  },
  {
   "cell_type": "code",
   "execution_count": 41,
   "metadata": {},
   "outputs": [
    {
     "data": {
      "text/html": [
       "<div>\n",
       "<style scoped>\n",
       "    .dataframe tbody tr th:only-of-type {\n",
       "        vertical-align: middle;\n",
       "    }\n",
       "\n",
       "    .dataframe tbody tr th {\n",
       "        vertical-align: top;\n",
       "    }\n",
       "\n",
       "    .dataframe thead th {\n",
       "        text-align: right;\n",
       "    }\n",
       "</style>\n",
       "<table border=\"1\" class=\"dataframe\">\n",
       "  <thead>\n",
       "    <tr style=\"text-align: right;\">\n",
       "      <th></th>\n",
       "      <th>A</th>\n",
       "      <th>B</th>\n",
       "    </tr>\n",
       "  </thead>\n",
       "  <tbody>\n",
       "    <tr>\n",
       "      <th>0</th>\n",
       "      <td>a</td>\n",
       "      <td>A</td>\n",
       "    </tr>\n",
       "    <tr>\n",
       "      <th>1</th>\n",
       "      <td>b</td>\n",
       "      <td>A</td>\n",
       "    </tr>\n",
       "    <tr>\n",
       "      <th>2</th>\n",
       "      <td>c</td>\n",
       "      <td>A</td>\n",
       "    </tr>\n",
       "  </tbody>\n",
       "</table>\n",
       "</div>"
      ],
      "text/plain": [
       "   A  B\n",
       "0  a  A\n",
       "1  b  A\n",
       "2  c  A"
      ]
     },
     "execution_count": 41,
     "metadata": {},
     "output_type": "execute_result"
    }
   ],
   "source": [
    "df_1 ['B']=\"A\"\n",
    "df_1"
   ]
  },
  {
   "cell_type": "code",
   "execution_count": 42,
   "metadata": {},
   "outputs": [
    {
     "data": {
      "text/plain": [
       "0    a\n",
       "1    b\n",
       "2    c\n",
       "Name: A, dtype: object"
      ]
     },
     "execution_count": 42,
     "metadata": {},
     "output_type": "execute_result"
    }
   ],
   "source": [
    "#A열값만 출력\n",
    "df_1['A']\n",
    "#df_1.A"
   ]
  },
  {
   "cell_type": "code",
   "execution_count": 43,
   "metadata": {},
   "outputs": [
    {
     "data": {
      "text/html": [
       "<div>\n",
       "<style scoped>\n",
       "    .dataframe tbody tr th:only-of-type {\n",
       "        vertical-align: middle;\n",
       "    }\n",
       "\n",
       "    .dataframe tbody tr th {\n",
       "        vertical-align: top;\n",
       "    }\n",
       "\n",
       "    .dataframe thead th {\n",
       "        text-align: right;\n",
       "    }\n",
       "</style>\n",
       "<table border=\"1\" class=\"dataframe\">\n",
       "  <thead>\n",
       "    <tr style=\"text-align: right;\">\n",
       "      <th></th>\n",
       "      <th>a</th>\n",
       "      <th>b</th>\n",
       "    </tr>\n",
       "  </thead>\n",
       "  <tbody>\n",
       "    <tr>\n",
       "      <th>0</th>\n",
       "      <td>a</td>\n",
       "      <td>A</td>\n",
       "    </tr>\n",
       "    <tr>\n",
       "      <th>1</th>\n",
       "      <td>b</td>\n",
       "      <td>A</td>\n",
       "    </tr>\n",
       "    <tr>\n",
       "      <th>2</th>\n",
       "      <td>c</td>\n",
       "      <td>A</td>\n",
       "    </tr>\n",
       "  </tbody>\n",
       "</table>\n",
       "</div>"
      ],
      "text/plain": [
       "   a  b\n",
       "0  a  A\n",
       "1  b  A\n",
       "2  c  A"
      ]
     },
     "execution_count": 43,
     "metadata": {},
     "output_type": "execute_result"
    }
   ],
   "source": [
    "#콜룸값만 변경\n",
    "df_1.columns=[\"a\",\"b\"]\n",
    "df_1\n"
   ]
  },
  {
   "cell_type": "code",
   "execution_count": 44,
   "metadata": {},
   "outputs": [
    {
     "data": {
      "text/html": [
       "<div>\n",
       "<style scoped>\n",
       "    .dataframe tbody tr th:only-of-type {\n",
       "        vertical-align: middle;\n",
       "    }\n",
       "\n",
       "    .dataframe tbody tr th {\n",
       "        vertical-align: top;\n",
       "    }\n",
       "\n",
       "    .dataframe thead th {\n",
       "        text-align: right;\n",
       "    }\n",
       "</style>\n",
       "<table border=\"1\" class=\"dataframe\">\n",
       "  <thead>\n",
       "    <tr style=\"text-align: right;\">\n",
       "      <th></th>\n",
       "      <th>name</th>\n",
       "      <th>pay</th>\n",
       "    </tr>\n",
       "  </thead>\n",
       "  <tbody>\n",
       "    <tr>\n",
       "      <th>0</th>\n",
       "      <td>test1</td>\n",
       "      <td>20000</td>\n",
       "    </tr>\n",
       "    <tr>\n",
       "      <th>1</th>\n",
       "      <td>test2</td>\n",
       "      <td>30000</td>\n",
       "    </tr>\n",
       "    <tr>\n",
       "      <th>2</th>\n",
       "      <td>test3</td>\n",
       "      <td>10000</td>\n",
       "    </tr>\n",
       "  </tbody>\n",
       "</table>\n",
       "</div>"
      ],
      "text/plain": [
       "    name    pay\n",
       "0  test1  20000\n",
       "1  test2  30000\n",
       "2  test3  10000"
      ]
     },
     "execution_count": 44,
     "metadata": {},
     "output_type": "execute_result"
    }
   ],
   "source": [
    "#데이터 추가\n",
    "values=[[\"test1\",\"20000\"],[\"test2\",\"30000\"],[\"test3\",\"10000\"]]\n",
    "columns=[\"name\",\"pay\"]\n",
    "df_2 = pd.DataFrame(values,columns = columns)\n",
    "df_2"
   ]
  },
  {
   "cell_type": "code",
   "execution_count": 33,
   "metadata": {},
   "outputs": [
    {
     "data": {
      "text/html": [
       "<div>\n",
       "<style scoped>\n",
       "    .dataframe tbody tr th:only-of-type {\n",
       "        vertical-align: middle;\n",
       "    }\n",
       "\n",
       "    .dataframe tbody tr th {\n",
       "        vertical-align: top;\n",
       "    }\n",
       "\n",
       "    .dataframe thead th {\n",
       "        text-align: right;\n",
       "    }\n",
       "</style>\n",
       "<table border=\"1\" class=\"dataframe\">\n",
       "  <thead>\n",
       "    <tr style=\"text-align: right;\">\n",
       "      <th></th>\n",
       "      <th>name</th>\n",
       "      <th>pay</th>\n",
       "    </tr>\n",
       "  </thead>\n",
       "  <tbody>\n",
       "    <tr>\n",
       "      <th>2</th>\n",
       "      <td>test3</td>\n",
       "      <td>10000</td>\n",
       "    </tr>\n",
       "    <tr>\n",
       "      <th>0</th>\n",
       "      <td>test1</td>\n",
       "      <td>20000</td>\n",
       "    </tr>\n",
       "    <tr>\n",
       "      <th>1</th>\n",
       "      <td>test2</td>\n",
       "      <td>30000</td>\n",
       "    </tr>\n",
       "  </tbody>\n",
       "</table>\n",
       "</div>"
      ],
      "text/plain": [
       "    name    pay\n",
       "2  test3  10000\n",
       "0  test1  20000\n",
       "1  test2  30000"
      ]
     },
     "execution_count": 33,
     "metadata": {},
     "output_type": "execute_result"
    }
   ],
   "source": [
    "#pay기준 오름차순대로 정렬, ascendinh=true\n",
    "df_2.sort_values(\"pay\")  \n",
    "\n"
   ]
  },
  {
   "cell_type": "code",
   "execution_count": 31,
   "metadata": {},
   "outputs": [
    {
     "data": {
      "text/html": [
       "<div>\n",
       "<style scoped>\n",
       "    .dataframe tbody tr th:only-of-type {\n",
       "        vertical-align: middle;\n",
       "    }\n",
       "\n",
       "    .dataframe tbody tr th {\n",
       "        vertical-align: top;\n",
       "    }\n",
       "\n",
       "    .dataframe thead th {\n",
       "        text-align: right;\n",
       "    }\n",
       "</style>\n",
       "<table border=\"1\" class=\"dataframe\">\n",
       "  <thead>\n",
       "    <tr style=\"text-align: right;\">\n",
       "      <th></th>\n",
       "      <th>name</th>\n",
       "      <th>pay</th>\n",
       "    </tr>\n",
       "  </thead>\n",
       "  <tbody>\n",
       "    <tr>\n",
       "      <th>1</th>\n",
       "      <td>test2</td>\n",
       "      <td>30000</td>\n",
       "    </tr>\n",
       "    <tr>\n",
       "      <th>0</th>\n",
       "      <td>test1</td>\n",
       "      <td>20000</td>\n",
       "    </tr>\n",
       "    <tr>\n",
       "      <th>2</th>\n",
       "      <td>test3</td>\n",
       "      <td>10000</td>\n",
       "    </tr>\n",
       "  </tbody>\n",
       "</table>\n",
       "</div>"
      ],
      "text/plain": [
       "    name    pay\n",
       "1  test2  30000\n",
       "0  test1  20000\n",
       "2  test3  10000"
      ]
     },
     "execution_count": 31,
     "metadata": {},
     "output_type": "execute_result"
    }
   ],
   "source": [
    "df_2.sort_values('pay',ascending=False)#오름차순=false -> 내림차순정렬"
   ]
  },
  {
   "cell_type": "code",
   "execution_count": null,
   "metadata": {},
   "outputs": [],
   "source": [
    "df_2.sort_index(ascending=False)#내림차순"
   ]
  },
  {
   "cell_type": "code",
   "execution_count": 38,
   "metadata": {},
   "outputs": [
    {
     "data": {
      "text/html": [
       "<div>\n",
       "<style scoped>\n",
       "    .dataframe tbody tr th:only-of-type {\n",
       "        vertical-align: middle;\n",
       "    }\n",
       "\n",
       "    .dataframe tbody tr th {\n",
       "        vertical-align: top;\n",
       "    }\n",
       "\n",
       "    .dataframe thead th {\n",
       "        text-align: right;\n",
       "    }\n",
       "</style>\n",
       "<table border=\"1\" class=\"dataframe\">\n",
       "  <thead>\n",
       "    <tr style=\"text-align: right;\">\n",
       "      <th></th>\n",
       "      <th>name</th>\n",
       "      <th>pay</th>\n",
       "    </tr>\n",
       "  </thead>\n",
       "  <tbody>\n",
       "    <tr>\n",
       "      <th>0</th>\n",
       "      <td>test1</td>\n",
       "      <td>20000</td>\n",
       "    </tr>\n",
       "    <tr>\n",
       "      <th>1</th>\n",
       "      <td>test2</td>\n",
       "      <td>30000</td>\n",
       "    </tr>\n",
       "    <tr>\n",
       "      <th>2</th>\n",
       "      <td>test3</td>\n",
       "      <td>10000</td>\n",
       "    </tr>\n",
       "  </tbody>\n",
       "</table>\n",
       "</div>"
      ],
      "text/plain": [
       "    name    pay\n",
       "0  test1  20000\n",
       "1  test2  30000\n",
       "2  test3  10000"
      ]
     },
     "execution_count": 38,
     "metadata": {},
     "output_type": "execute_result"
    }
   ],
   "source": [
    "#복사, 원본데이터 유지하기 위해\n",
    "df_3=df_2.copy()\n",
    "df_3"
   ]
  },
  {
   "cell_type": "code",
   "execution_count": 51,
   "metadata": {},
   "outputs": [
    {
     "data": {
      "text/html": [
       "<div>\n",
       "<style scoped>\n",
       "    .dataframe tbody tr th:only-of-type {\n",
       "        vertical-align: middle;\n",
       "    }\n",
       "\n",
       "    .dataframe tbody tr th {\n",
       "        vertical-align: top;\n",
       "    }\n",
       "\n",
       "    .dataframe thead th {\n",
       "        text-align: right;\n",
       "    }\n",
       "</style>\n",
       "<table border=\"1\" class=\"dataframe\">\n",
       "  <thead>\n",
       "    <tr style=\"text-align: right;\">\n",
       "      <th></th>\n",
       "      <th>pay</th>\n",
       "    </tr>\n",
       "  </thead>\n",
       "  <tbody>\n",
       "    <tr>\n",
       "      <th>0</th>\n",
       "      <td>20000</td>\n",
       "    </tr>\n",
       "    <tr>\n",
       "      <th>1</th>\n",
       "      <td>30000</td>\n",
       "    </tr>\n",
       "    <tr>\n",
       "      <th>2</th>\n",
       "      <td>10000</td>\n",
       "    </tr>\n",
       "  </tbody>\n",
       "</table>\n",
       "</div>"
      ],
      "text/plain": [
       "     pay\n",
       "0  20000\n",
       "1  30000\n",
       "2  10000"
      ]
     },
     "execution_count": 51,
     "metadata": {},
     "output_type": "execute_result"
    }
   ],
   "source": [
    "#콜룸값 삭제\n",
    "df_4=df_3.drop([\"name\"],axis=1)#axis=1은 열을 선택해서 지움\n",
    "df_4\n",
    "#df3에서 삭제해 df4에 저장하면 df3는 원본유지 df4에서 변경되어있음"
   ]
  },
  {
   "cell_type": "code",
   "execution_count": 67,
   "metadata": {},
   "outputs": [
    {
     "name": "stdout",
     "output_type": "stream",
     "text": [
      "     pay\n",
      "0  20000\n",
      "1  30000\n",
      "2  10000\n"
     ]
    }
   ],
   "source": [
    "df_4=df_3.drop([\"name\"],axis=1)#axis=1은 열을 선택해서 지움\n",
    "print(df_4)"
   ]
  },
  {
   "cell_type": "code",
   "execution_count": 52,
   "metadata": {},
   "outputs": [
    {
     "data": {
      "text/html": [
       "<div>\n",
       "<style scoped>\n",
       "    .dataframe tbody tr th:only-of-type {\n",
       "        vertical-align: middle;\n",
       "    }\n",
       "\n",
       "    .dataframe tbody tr th {\n",
       "        vertical-align: top;\n",
       "    }\n",
       "\n",
       "    .dataframe thead th {\n",
       "        text-align: right;\n",
       "    }\n",
       "</style>\n",
       "<table border=\"1\" class=\"dataframe\">\n",
       "  <thead>\n",
       "    <tr style=\"text-align: right;\">\n",
       "      <th></th>\n",
       "      <th>name</th>\n",
       "      <th>pay</th>\n",
       "    </tr>\n",
       "  </thead>\n",
       "  <tbody>\n",
       "    <tr>\n",
       "      <th>0</th>\n",
       "      <td>test1</td>\n",
       "      <td>20000</td>\n",
       "    </tr>\n",
       "    <tr>\n",
       "      <th>2</th>\n",
       "      <td>test3</td>\n",
       "      <td>10000</td>\n",
       "    </tr>\n",
       "  </tbody>\n",
       "</table>\n",
       "</div>"
      ],
      "text/plain": [
       "    name    pay\n",
       "0  test1  20000\n",
       "2  test3  10000"
      ]
     },
     "execution_count": 52,
     "metadata": {},
     "output_type": "execute_result"
    }
   ],
   "source": [
    "df_4=df_3.drop([1],axis=0)#axis=0은 행 선택해서 지움\n",
    "df_4"
   ]
  },
  {
   "cell_type": "code",
   "execution_count": 57,
   "metadata": {},
   "outputs": [
    {
     "data": {
      "text/html": [
       "<div>\n",
       "<style scoped>\n",
       "    .dataframe tbody tr th:only-of-type {\n",
       "        vertical-align: middle;\n",
       "    }\n",
       "\n",
       "    .dataframe tbody tr th {\n",
       "        vertical-align: top;\n",
       "    }\n",
       "\n",
       "    .dataframe thead th {\n",
       "        text-align: right;\n",
       "    }\n",
       "</style>\n",
       "<table border=\"1\" class=\"dataframe\">\n",
       "  <thead>\n",
       "    <tr style=\"text-align: right;\">\n",
       "      <th></th>\n",
       "      <th>name</th>\n",
       "      <th>pay</th>\n",
       "    </tr>\n",
       "  </thead>\n",
       "  <tbody>\n",
       "    <tr>\n",
       "      <th>1</th>\n",
       "      <td>test2</td>\n",
       "      <td>30000</td>\n",
       "    </tr>\n",
       "    <tr>\n",
       "      <th>2</th>\n",
       "      <td>test3</td>\n",
       "      <td>10000</td>\n",
       "    </tr>\n",
       "  </tbody>\n",
       "</table>\n",
       "</div>"
      ],
      "text/plain": [
       "    name    pay\n",
       "1  test2  30000\n",
       "2  test3  10000"
      ]
     },
     "execution_count": 57,
     "metadata": {},
     "output_type": "execute_result"
    }
   ],
   "source": [
    "df_5=df_3.drop([0],axis=0)\n",
    "df_5"
   ]
  },
  {
   "cell_type": "code",
   "execution_count": null,
   "metadata": {},
   "outputs": [],
   "source": [
    "#딕셔너리의 키값은 콜룸으로 가고 그 열에 맞는 벨류값이 들어감"
   ]
  },
  {
   "cell_type": "code",
   "execution_count": 58,
   "metadata": {},
   "outputs": [],
   "source": [
    "#csv파일 저장하기\n",
    "df_5.to_csv('test.csv',encoding='utf-8')#경로지정 안할 시 현재 폴더 "
   ]
  },
  {
   "cell_type": "code",
   "execution_count": null,
   "metadata": {},
   "outputs": [],
   "source": [
    "#df_5.to_csv('./pandas/test.csv',encoding='utf-8')#./판다스폴더에 하위, "
   ]
  },
  {
   "cell_type": "code",
   "execution_count": 65,
   "metadata": {},
   "outputs": [],
   "source": [
    "df_5.to_csv('./templates/test4.csv',encoding='utf-8')#../ 서버에 템플릿 폴더에 저장 하위"
   ]
  },
  {
   "cell_type": "code",
   "execution_count": 66,
   "metadata": {},
   "outputs": [],
   "source": [
    "df_5.to_csv('../test3.csv',encoding='utf-8') #상위 웹 폴더 에 저앙"
   ]
  },
  {
   "cell_type": "code",
   "execution_count": null,
   "metadata": {},
   "outputs": [],
   "source": []
  }
 ],
 "metadata": {
  "interpreter": {
   "hash": "f34cd9ef3a25a401ef1891262e0b6ad7ff3305bbc44f242c8aa5d1053ab3e25e"
  },
  "kernelspec": {
   "display_name": "Python 3.10.2 64-bit (windows store)",
   "language": "python",
   "name": "python3"
  },
  "language_info": {
   "codemirror_mode": {
    "name": "ipython",
    "version": 3
   },
   "file_extension": ".py",
   "mimetype": "text/x-python",
   "name": "python",
   "nbconvert_exporter": "python",
   "pygments_lexer": "ipython3",
   "version": "3.10.2"
  },
  "orig_nbformat": 4
 },
 "nbformat": 4,
 "nbformat_minor": 2
}
