{
 "cells": [
  {
   "cell_type": "code",
   "execution_count": 1,
   "metadata": {},
   "outputs": [],
   "source": [
    "import pymysql"
   ]
  },
  {
   "cell_type": "code",
   "execution_count": 2,
   "metadata": {},
   "outputs": [],
   "source": [
    "sample_db = pymysql.connect(\n",
    "    user = \"root\",\n",
    "    passwd = \"aprl8752^^\",\n",
    "    host = \"localhost\",\n",
    "    db = \"ubion\",\n",
    "    charset = \"utf8\"\n",
    ")"
   ]
  },
  {
   "cell_type": "code",
   "execution_count": 3,
   "metadata": {},
   "outputs": [],
   "source": [
    "cursor = sample_db.cursor(pymysql.cursors.DictCursor)"
   ]
  },
  {
   "cell_type": "code",
   "execution_count": 4,
   "metadata": {},
   "outputs": [
    {
     "name": "stdout",
     "output_type": "stream",
     "text": [
      "[{'post_id': 'test', 'password': '1234'}, {'post_id': 'test2', 'password': '1231'}, {'post_id': 'test7', 'password': '1234'}]\n"
     ]
    }
   ],
   "source": [
    "\n",
    "sample_db = pymysql.connect(\n",
    "    user = \"root\",\n",
    "    passwd = \"aprl8752^^\",\n",
    "    host = \"localhost\",\n",
    "    db = \"ubion\",\n",
    "    charset = \"utf8\"\n",
    ")\n",
    "cursor = sample_db.cursor(pymysql.cursors.DictCursor)\n",
    "sql = \"SELECT * FROM base1\"\n",
    "cursor.execute(sql)\n",
    "result = cursor.fetchall()\n",
    "print(result)"
   ]
  },
  {
   "cell_type": "code",
   "execution_count": 7,
   "metadata": {},
   "outputs": [
    {
     "name": "stdout",
     "output_type": "stream",
     "text": [
      "[{'No': 1, 'post_id': 'test', 'phone': None}, {'No': 2, 'post_id': 'test2', 'phone': None}, {'No': 3, 'post_id': 'test3', 'phone': '\"000\"'}, {'No': 4, 'post_id': 'test5', 'phone': '01012345678'}, {'No': 5, 'post_id': 'yed', 'phone': '000'}, {'No': 6, 'post_id': 'test6', 'phone': '1234'}, {'No': 8, 'post_id': 'test7', 'phone': '1234'}, {'No': 9, 'post_id': 'test7', 'phone': '1234'}]\n"
     ]
    }
   ],
   "source": [
    "sql = \"SELECT * FROM base2\"\n",
    "\n",
    "cursor.execute(sql)\n",
    "result = cursor.fetchall()\n",
    "print(result)"
   ]
  },
  {
   "cell_type": "code",
   "execution_count": 9,
   "metadata": {},
   "outputs": [
    {
     "name": "stdout",
     "output_type": "stream",
     "text": [
      "[{'No': 1, 'post_id': 'test', 'phone': None}, {'No': 2, 'post_id': 'test2', 'phone': None}, {'No': 3, 'post_id': 'test3', 'phone': '\"000\"'}, {'No': 4, 'post_id': 'test5', 'phone': '01012345678'}, {'No': 5, 'post_id': 'yed', 'phone': '000'}, {'No': 6, 'post_id': 'test6', 'phone': '1234'}, {'No': 8, 'post_id': 'test7', 'phone': '1234'}, {'No': 9, 'post_id': 'test7', 'phone': '1234'}]\n"
     ]
    }
   ],
   "source": [
    "select_sql_2=\"SELECT * FROM base2\"\n",
    "cursor.execute(select_sql_2)\n",
    "result = cursor.fetchall()\n",
    "print(result)"
   ]
  },
  {
   "cell_type": "code",
   "execution_count": 39,
   "metadata": {},
   "outputs": [
    {
     "data": {
      "text/plain": [
       "1"
      ]
     },
     "execution_count": 39,
     "metadata": {},
     "output_type": "execute_result"
    }
   ],
   "source": [
    "sql = \"INSERT INTO base1 values ('test7','1234')\"\n",
    "\n",
    "cursor.execute(sql)\n"
   ]
  },
  {
   "cell_type": "code",
   "execution_count": 54,
   "metadata": {},
   "outputs": [
    {
     "data": {
      "text/plain": [
       "1"
      ]
     },
     "execution_count": 54,
     "metadata": {},
     "output_type": "execute_result"
    }
   ],
   "source": [
    "sql = \"INSERT INTO base2 (post_id,phone) values ('test7','1234')\"#넘버는 순차로 오르기때문에 추가할 필드 설정해주기\n",
    "\n",
    "cursor.execute(sql)\n"
   ]
  },
  {
   "cell_type": "code",
   "execution_count": 48,
   "metadata": {},
   "outputs": [],
   "source": [
    "sql=\"delete from base2 where post_id='test7'\"#필드명\n",
    "cursor.execute(sql)\n",
    "sample_db.commit()#워크벤치에 적용\n",
    "sample_db.commit()"
   ]
  },
  {
   "cell_type": "code",
   "execution_count": 50,
   "metadata": {},
   "outputs": [],
   "source": [
    "sql = \"update base2 set post_id='test6' where NO='6'\"\n",
    "cursor.execute(sql)\n",
    "sample_db.commit()\n",
    "sample_db.commit()"
   ]
  },
  {
   "cell_type": "code",
   "execution_count": 67,
   "metadata": {},
   "outputs": [
    {
     "name": "stdout",
     "output_type": "stream",
     "text": [
      "[{'No': 1, 'post_id': 'test', 'phone': None}, {'No': 2, 'post_id': 'test2', 'phone': None}, {'No': 3, 'post_id': 'test3', 'phone': '\"000\"'}, {'No': 4, 'post_id': 'test5', 'phone': '01012345678'}, {'No': 5, 'post_id': 'yed', 'phone': '000'}, {'No': 6, 'post_id': 'test6', 'phone': '1234'}, {'No': 8, 'post_id': 'test7', 'phone': '1234'}, {'No': 9, 'post_id': 'test7', 'phone': '1234'}]\n"
     ]
    }
   ],
   "source": [
    "sql = \"SELECT * FROM base2\"\n",
    "\n",
    "cursor.execute(sql)\n",
    "result = cursor.fetchall()\n",
    "print(result)\n",
    "sample_db.commit()\n",
    "sample_db.close()"
   ]
  },
  {
   "cell_type": "code",
   "execution_count": 61,
   "metadata": {},
   "outputs": [
    {
     "data": {
      "text/plain": [
       "'sssss'"
      ]
     },
     "execution_count": 61,
     "metadata": {},
     "output_type": "execute_result"
    }
   ],
   "source": [
    "'''sssss'''#스트링으로 인식,줄바꿈'"
   ]
  },
  {
   "cell_type": "code",
   "execution_count": 72,
   "metadata": {},
   "outputs": [
    {
     "name": "stdout",
     "output_type": "stream",
     "text": [
      "[{'post_id': 'test7', 'password': '1234'}, {'post_id': 'test2', 'password': '1231'}, {'post_id': 'test', 'password': '1234'}]\n"
     ]
    }
   ],
   "source": [
    "select_sql = \" SELECT * FROM base1 order by post_id DESC\" #역순\n",
    "\n",
    "cursor.execute(select_sql)\n",
    "result =cursor.fetchall()\n",
    "print (result)\n"
   ]
  },
  {
   "cell_type": "code",
   "execution_count": 73,
   "metadata": {},
   "outputs": [
    {
     "name": "stdout",
     "output_type": "stream",
     "text": [
      "[{'No': 5, 'post_id': 'yed', 'phone': '000'}, {'No': 8, 'post_id': 'test7', 'phone': '1234'}, {'No': 9, 'post_id': 'test7', 'phone': '1234'}, {'No': 6, 'post_id': 'test6', 'phone': '1234'}, {'No': 4, 'post_id': 'test5', 'phone': '01012345678'}, {'No': 3, 'post_id': 'test3', 'phone': '\"000\"'}, {'No': 2, 'post_id': 'test2', 'phone': None}, {'No': 1, 'post_id': 'test', 'phone': None}]\n"
     ]
    }
   ],
   "source": [
    "select_sql = \" SELECT * FROM base2 order by post_id DESC\" #내림차순DESC오름차순_기본값ASC\n",
    "\n",
    "cursor.execute(select_sql)\n",
    "result =cursor.fetchall()\n",
    "print (result)"
   ]
  },
  {
   "cell_type": "code",
   "execution_count": 76,
   "metadata": {},
   "outputs": [
    {
     "name": "stdout",
     "output_type": "stream",
     "text": [
      "[{'No': 1, 'post_id': 'test', 'phone': None}, {'No': 2, 'post_id': 'test2', 'phone': None}, {'No': 3, 'post_id': 'test3', 'phone': '\"000\"'}, {'No': 4, 'post_id': 'test5', 'phone': '01012345678'}, {'No': 5, 'post_id': 'yed', 'phone': '000'}, {'No': 6, 'post_id': 'test6', 'phone': '1234'}, {'No': 8, 'post_id': 'test7', 'phone': '1234'}, {'No': 9, 'post_id': 'test7', 'phone': '1234'}]\n"
     ]
    }
   ],
   "source": [
    "select_sql = \" SELECT * FROM base2 order by NO\" \n",
    "\n",
    "cursor.execute(select_sql)\n",
    "result =cursor.fetchall()#결과값 받는것\n",
    "print (result)"
   ]
  },
  {
   "cell_type": "code",
   "execution_count": 86,
   "metadata": {},
   "outputs": [
    {
     "name": "stdout",
     "output_type": "stream",
     "text": [
      "[{'password': '1234', 'cnt': 2}, {'password': '1231', 'cnt': 1}]\n"
     ]
    }
   ],
   "source": [
    "select_sql = \" SELECT password,count(password) as cnt FROM base1 GROUP BY password\" #group by같은값끼리 묶기\n",
    "\n",
    "cursor.execute(select_sql)\n",
    "result =cursor.fetchall()\n",
    "print (result)"
   ]
  },
  {
   "cell_type": "code",
   "execution_count": 90,
   "metadata": {},
   "outputs": [
    {
     "name": "stdout",
     "output_type": "stream",
     "text": [
      "[{'phone': None, 'cnt': 0}, {'phone': '\"000\"', 'cnt': 1}, {'phone': '01012345678', 'cnt': 1}, {'phone': '000', 'cnt': 1}, {'phone': '1234', 'cnt': 3}]\n"
     ]
    }
   ],
   "source": [
    "select_sql = \" SELECT phone,count(phone) as cnt FROM base2 GROUP BY phone\" #group by같은값끼리 묶기\n",
    "\n",
    "cursor.execute(select_sql)\n",
    "result =cursor.fetchall()\n",
    "print (result)"
   ]
  },
  {
   "cell_type": "code",
   "execution_count": 92,
   "metadata": {},
   "outputs": [
    {
     "name": "stdout",
     "output_type": "stream",
     "text": [
      "[{'phone': None}, {'phone': '\"000\"'}, {'phone': '01012345678'}, {'phone': '000'}, {'phone': '1234'}]\n"
     ]
    }
   ],
   "source": [
    "select_sql = \" SELECT phone FROM base2 GROUP BY phone\" #cnt 안쓸경우 같은값이 어떤게 있는지 나옴\n",
    "\n",
    "cursor.execute(select_sql)\n",
    "result =cursor.fetchall()\n",
    "print (result)"
   ]
  },
  {
   "cell_type": "code",
   "execution_count": 82,
   "metadata": {},
   "outputs": [
    {
     "name": "stdout",
     "output_type": "stream",
     "text": [
      "[{'post_id': 'test', 'password': '1234', 'phone': None}, {'post_id': 'test2', 'password': '1231', 'phone': None}, {'post_id': 'test7', 'password': '1234', 'phone': '1234'}, {'post_id': 'test7', 'password': '1234', 'phone': '1234'}]\n"
     ]
    }
   ],
   "source": [
    "#join\n",
    "select_sql = '''SELECT base1.post_id, base1.password, base2.phone FROM base1 LEFT JOIN base2 \n",
    "ON base1.post_id=base2.post_id'''\n",
    "\n",
    "cursor.execute(select_sql)\n",
    "result =cursor.fetchall()\n",
    "print(result)\n"
   ]
  },
  {
   "cell_type": "code",
   "execution_count": 96,
   "metadata": {},
   "outputs": [
    {
     "name": "stdout",
     "output_type": "stream",
     "text": [
      "[{'post_id': 'test', 'password': '1234', 'phone': '1234'}, {'post_id': 'test', 'password': '1234', 'phone': '1234'}, {'post_id': 'test', 'password': '1234', 'phone': '1234'}, {'post_id': 'test2', 'password': '1231', 'phone': None}, {'post_id': 'test7', 'password': '1234', 'phone': '1234'}, {'post_id': 'test7', 'password': '1234', 'phone': '1234'}, {'post_id': 'test7', 'password': '1234', 'phone': '1234'}]\n"
     ]
    }
   ],
   "source": [
    "select_sql = '''SELECT base1.post_id, base1.password, base2.phone FROM base1 LEFT JOIN base2 \n",
    "ON base2.phone=base1.password'''\n",
    "\n",
    "cursor.execute(select_sql)\n",
    "result =cursor.fetchall()\n",
    "print(result)"
   ]
  },
  {
   "cell_type": "code",
   "execution_count": 84,
   "metadata": {},
   "outputs": [
    {
     "name": "stdout",
     "output_type": "stream",
     "text": [
      "[{'post_id': 'test', 'password': '1234', 'phone': None}, {'post_id': 'test2', 'password': '1231', 'phone': None}, {'post_id': 'test7', 'password': '1234', 'phone': '1234'}, {'post_id': 'test7', 'password': '1234', 'phone': '1234'}]\n"
     ]
    }
   ],
   "source": [
    "#inner join 일치하는 값만 나옴\n",
    "select_sql = '''SELECT base1.post_id, base1.password, base2.phone FROM base1 INNER JOIN base2 \n",
    "ON base1.post_id=base2.post_id'''\n",
    "\n",
    "cursor.execute(select_sql)\n",
    "result =cursor.fetchall()\n",
    "print(result)\n",
    "\n"
   ]
  },
  {
   "cell_type": "code",
   "execution_count": 97,
   "metadata": {},
   "outputs": [
    {
     "name": "stdout",
     "output_type": "stream",
     "text": [
      "[{'post_id': 'test7', 'password': '1234', 'phone': '1234'}, {'post_id': 'test', 'password': '1234', 'phone': '1234'}, {'post_id': 'test7', 'password': '1234', 'phone': '1234'}, {'post_id': 'test', 'password': '1234', 'phone': '1234'}, {'post_id': 'test7', 'password': '1234', 'phone': '1234'}, {'post_id': 'test', 'password': '1234', 'phone': '1234'}]\n"
     ]
    }
   ],
   "source": [
    "select_sql = '''SELECT base1.post_id, base1.password, base2.phone FROM base1 INNER JOIN base2 \n",
    "ON base2.phone=base1.password'''\n",
    "\n",
    "cursor.execute(select_sql)\n",
    "result =cursor.fetchall()\n",
    "print(result)"
   ]
  },
  {
   "cell_type": "code",
   "execution_count": 98,
   "metadata": {},
   "outputs": [],
   "source": [
    "sample_db.commit()\n",
    "sample_db.close()"
   ]
  },
  {
   "cell_type": "code",
   "execution_count": 99,
   "metadata": {},
   "outputs": [
    {
     "data": {
      "text/plain": [
       "'안녕\\n아낭ㅇ\\n낭나야'"
      ]
     },
     "execution_count": 99,
     "metadata": {},
     "output_type": "execute_result"
    }
   ],
   "source": [
    "'''안녕\n",
    "아낭ㅇ\n",
    "낭나야'''"
   ]
  },
  {
   "cell_type": "code",
   "execution_count": null,
   "metadata": {},
   "outputs": [],
   "source": []
  }
 ],
 "metadata": {
  "interpreter": {
   "hash": "cccea9d7e6cea7c1bade4216a897837678209bb0aa071fa44f94e1961c649461"
  },
  "kernelspec": {
   "display_name": "Python 3.10.2 64-bit",
   "language": "python",
   "name": "python3"
  },
  "language_info": {
   "codemirror_mode": {
    "name": "ipython",
    "version": 3
   },
   "file_extension": ".py",
   "mimetype": "text/x-python",
   "name": "python",
   "nbconvert_exporter": "python",
   "pygments_lexer": "ipython3",
   "version": "3.10.2"
  },
  "orig_nbformat": 4
 },
 "nbformat": 4,
 "nbformat_minor": 2
}
