{
 "cells": [
  {
   "cell_type": "code",
   "execution_count": 1,
   "metadata": {},
   "outputs": [],
   "source": [
    "import pymysql\n",
    "import pandas as pd"
   ]
  },
  {
   "cell_type": "code",
   "execution_count": 2,
   "metadata": {},
   "outputs": [],
   "source": [
    "_db = pymysql.connect(\n",
    "    user=\"root\",\n",
    "    passwd=\"aprl8752^^\",\n",
    "    host=\"localhost\",\n",
    "    db=\"ubion\"\n",
    ")\n",
    "    "
   ]
  },
  {
   "cell_type": "code",
   "execution_count": 3,
   "metadata": {},
   "outputs": [],
   "source": [
    "cursor=_db.cursor(pymysql.cursors.DictCursor)\n",
    "# cursor는 execute sql실행시키는 메소드를 쓰기 위한 변수"
   ]
  },
  {
   "cell_type": "code",
   "execution_count": 16,
   "metadata": {},
   "outputs": [
    {
     "name": "stdout",
     "output_type": "stream",
     "text": [
      "[{'ID': 'test', 'password': '1234', 'name': '고길동', 'phone': '01012345678', 'ads': '서울시강북구쌍문동', 'gender': 1, 'age': 45, 'regit_date': '20220310'}, {'ID': 'test2', 'password': '3678', 'name': '둘리', 'phone': '01023455678', 'ads': '북극어딘가', 'gender': 1, 'age': 10, 'regit_date': '20220310'}, {'ID': 'test3', 'password': '8532', 'name': '마이콜', 'phone': '01022223333', 'ads': '고길동옆집', 'gender': 1, 'age': 28, 'regit_date': '20220310'}, {'ID': 'test4', 'password': '2674', 'name': '또치', 'phone': '01099992222', 'ads': '동물원', 'gender': 2, 'age': 4, 'regit_date': '20200310'}, {'ID': 'test5', 'password': '4567', 'name': '도우너', 'phone': '01034927328', 'ads': '깐따삐야', 'gender': 1, 'age': 10, 'regit_date': '20220310'}]\n"
     ]
    }
   ],
   "source": [
    "sql=\"select*from user_info\"\n",
    "\n",
    "cursor.execute(sql)\n",
    "result=cursor.fetchall()\n",
    "print(result)"
   ]
  },
  {
   "cell_type": "code",
   "execution_count": 17,
   "metadata": {},
   "outputs": [
    {
     "data": {
      "text/html": [
       "<div>\n",
       "<style scoped>\n",
       "    .dataframe tbody tr th:only-of-type {\n",
       "        vertical-align: middle;\n",
       "    }\n",
       "\n",
       "    .dataframe tbody tr th {\n",
       "        vertical-align: top;\n",
       "    }\n",
       "\n",
       "    .dataframe thead th {\n",
       "        text-align: right;\n",
       "    }\n",
       "</style>\n",
       "<table border=\"1\" class=\"dataframe\">\n",
       "  <thead>\n",
       "    <tr style=\"text-align: right;\">\n",
       "      <th></th>\n",
       "      <th>ID</th>\n",
       "      <th>password</th>\n",
       "      <th>name</th>\n",
       "      <th>phone</th>\n",
       "      <th>ads</th>\n",
       "      <th>gender</th>\n",
       "      <th>age</th>\n",
       "      <th>regit_date</th>\n",
       "    </tr>\n",
       "  </thead>\n",
       "  <tbody>\n",
       "    <tr>\n",
       "      <th>0</th>\n",
       "      <td>test</td>\n",
       "      <td>1234</td>\n",
       "      <td>고길동</td>\n",
       "      <td>01012345678</td>\n",
       "      <td>서울시강북구쌍문동</td>\n",
       "      <td>1</td>\n",
       "      <td>45</td>\n",
       "      <td>20220310</td>\n",
       "    </tr>\n",
       "    <tr>\n",
       "      <th>1</th>\n",
       "      <td>test2</td>\n",
       "      <td>3678</td>\n",
       "      <td>둘리</td>\n",
       "      <td>01023455678</td>\n",
       "      <td>북극어딘가</td>\n",
       "      <td>1</td>\n",
       "      <td>10</td>\n",
       "      <td>20220310</td>\n",
       "    </tr>\n",
       "    <tr>\n",
       "      <th>2</th>\n",
       "      <td>test3</td>\n",
       "      <td>8532</td>\n",
       "      <td>마이콜</td>\n",
       "      <td>01022223333</td>\n",
       "      <td>고길동옆집</td>\n",
       "      <td>1</td>\n",
       "      <td>28</td>\n",
       "      <td>20220310</td>\n",
       "    </tr>\n",
       "    <tr>\n",
       "      <th>3</th>\n",
       "      <td>test4</td>\n",
       "      <td>2674</td>\n",
       "      <td>또치</td>\n",
       "      <td>01099992222</td>\n",
       "      <td>동물원</td>\n",
       "      <td>2</td>\n",
       "      <td>4</td>\n",
       "      <td>20200310</td>\n",
       "    </tr>\n",
       "    <tr>\n",
       "      <th>4</th>\n",
       "      <td>test5</td>\n",
       "      <td>4567</td>\n",
       "      <td>도우너</td>\n",
       "      <td>01034927328</td>\n",
       "      <td>깐따삐야</td>\n",
       "      <td>1</td>\n",
       "      <td>10</td>\n",
       "      <td>20220310</td>\n",
       "    </tr>\n",
       "  </tbody>\n",
       "</table>\n",
       "</div>"
      ],
      "text/plain": [
       "      ID password name        phone        ads  gender  age regit_date\n",
       "0   test     1234  고길동  01012345678  서울시강북구쌍문동       1   45   20220310\n",
       "1  test2     3678   둘리  01023455678      북극어딘가       1   10   20220310\n",
       "2  test3     8532  마이콜  01022223333      고길동옆집       1   28   20220310\n",
       "3  test4     2674   또치  01099992222        동물원       2    4   20200310\n",
       "4  test5     4567  도우너  01034927328       깐따삐야       1   10   20220310"
      ]
     },
     "execution_count": 17,
     "metadata": {},
     "output_type": "execute_result"
    }
   ],
   "source": [
    "#result를 데이터 프레임으로 만들어보기\n",
    "#변수명 dt로\n",
    "dt=pd.DataFrame(result)\n",
    "dt"
   ]
  },
  {
   "cell_type": "code",
   "execution_count": 12,
   "metadata": {},
   "outputs": [],
   "source": [
    "sql = \"insert into user_info values (%s, %s, %s, %s, %s, %s, %s, %s)\"# sql에선 s만 쑴%s문자 %d숫자 %f실수\n",
    "values=[\"test4\",\"2674\",\"또치\",\"01099992222\",\"동물원\",2,4,\"20200310\"]\n",
    "\n",
    "cursor.execute(sql, values)\n",
    "_db.commit()"
   ]
  },
  {
   "cell_type": "code",
   "execution_count": 18,
   "metadata": {},
   "outputs": [],
   "source": [
    "sql = \"insert into user_info values (%s, %s, %s, %s, %s, %s, %s, %s)\"\n",
    "\n",
    "_ID = input(\"ID : \")\n",
    "pw = input(\"password : \")\n",
    "name=input(\"name : \")\n",
    "phone=input(\"phone : \")\n",
    "ads=input(\"address : \")\n",
    "gender = int(input(\"gender : \"))#스트링을 인트로 바꿔주기\n",
    "age = int(input(\"age : \"))\n",
    "regit_date = input(\"regit_date : \")\n",
    "\n",
    "input_list = [_ID,pw,name,phone,ads,gender,age,regit_date]\n",
    "print(input_list)\n",
    "print((type(input_list)))\n",
    "\n",
    "cursor.execute(sql,input_list)\n",
    "_db.commit()\n"
   ]
  },
  {
   "cell_type": "code",
   "execution_count": 23,
   "metadata": {},
   "outputs": [
    {
     "data": {
      "text/plain": [
       "int"
      ]
     },
     "execution_count": 23,
     "metadata": {},
     "output_type": "execute_result"
    }
   ],
   "source": [
    "x= int(input(\"x:\"))\n",
    "type(x)\n"
   ]
  },
  {
   "cell_type": "code",
   "execution_count": 15,
   "metadata": {},
   "outputs": [],
   "source": [
    "#UPDATE문 UPDATE 테이블명 set 변경할 필드 이름= 값 WHERE \n",
    "#먼저sql구문 만들기\n",
    "#텍스트가 길어질 때 '''를 쓰면 줄이 바껴도 다 스트링으로 출력 특수문자들도 잘 출력\n",
    "update_sql =\"\"\"\n",
    "                UPDATE user_info \n",
    "                SET phone=\"01034927328\"\n",
    "                WHERE name=\"도우너\"\n",
    "            \"\"\"\n",
    "cursor.execute(update_sql)#추가 입력값이 없으므로 인자값 필요 없음\n",
    "_db.commit()#이렇게 하고 위의 select 문 확인"
   ]
  },
  {
   "cell_type": "code",
   "execution_count": null,
   "metadata": {},
   "outputs": [],
   "source": [
    "#delete_sql= '''\n",
    "#            DELETE FROM user_info\n",
    "#            WHERE ID=\"1\"\n",
    "#            '''\n",
    "#cursor.execute(delete_sql)\n",
    "#_db.commit()\n"
   ]
  },
  {
   "cell_type": "code",
   "execution_count": null,
   "metadata": {},
   "outputs": [],
   "source": []
  },
  {
   "cell_type": "code",
   "execution_count": null,
   "metadata": {},
   "outputs": [],
   "source": []
  }
 ],
 "metadata": {
  "interpreter": {
   "hash": "f34cd9ef3a25a401ef1891262e0b6ad7ff3305bbc44f242c8aa5d1053ab3e25e"
  },
  "kernelspec": {
   "display_name": "Python 3.10.2 64-bit (windows store)",
   "language": "python",
   "name": "python3"
  },
  "language_info": {
   "codemirror_mode": {
    "name": "ipython",
    "version": 3
   },
   "file_extension": ".py",
   "mimetype": "text/x-python",
   "name": "python",
   "nbconvert_exporter": "python",
   "pygments_lexer": "ipython3",
   "version": "3.10.2"
  },
  "orig_nbformat": 4
 },
 "nbformat": 4,
 "nbformat_minor": 2
}
